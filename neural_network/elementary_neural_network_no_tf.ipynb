{
 "cells": [
  {
   "cell_type": "code",
   "execution_count": 3,
   "metadata": {},
   "outputs": [
    {
     "ename": "ImportError",
     "evalue": "No module named preprocessing",
     "output_type": "error",
     "traceback": [
      "\u001b[0;31m---------------------------------------------------------------------------\u001b[0m",
      "\u001b[0;31mImportError\u001b[0m                               Traceback (most recent call last)",
      "\u001b[0;32m<ipython-input-3-57f8a9817df7>\u001b[0m in \u001b[0;36m<module>\u001b[0;34m()\u001b[0m\n\u001b[1;32m      4\u001b[0m \u001b[0;32mfrom\u001b[0m \u001b[0mpylab\u001b[0m \u001b[0;32mimport\u001b[0m \u001b[0mrcParams\u001b[0m\u001b[0;34m\u001b[0m\u001b[0m\n\u001b[1;32m      5\u001b[0m \u001b[0;34m\u001b[0m\u001b[0m\n\u001b[0;32m----> 6\u001b[0;31m \u001b[0;32mfrom\u001b[0m \u001b[0mpreprocessing\u001b[0m \u001b[0;32mimport\u001b[0m \u001b[0;34m*\u001b[0m\u001b[0;34m\u001b[0m\u001b[0m\n\u001b[0m\u001b[1;32m      7\u001b[0m \u001b[0;31m#from math_utils import *\u001b[0m\u001b[0;34m\u001b[0m\u001b[0;34m\u001b[0m\u001b[0m\n\u001b[1;32m      8\u001b[0m \u001b[0;31m#from plotting import *\u001b[0m\u001b[0;34m\u001b[0m\u001b[0;34m\u001b[0m\u001b[0m\n",
      "\u001b[0;31mImportError\u001b[0m: No module named preprocessing"
     ]
    }
   ],
   "source": [
    "import numpy as np\n",
    "import matplotlib.pyplot as plt\n",
    "import seaborn as sns\n",
    "from pylab import rcParams\n",
    "\n",
    "from preprocessing import *\n",
    "#from math_utils import *\n",
    "#from plotting import *\n",
    "\n",
    "%matplotlib inline\n",
    "\n",
    "sns.set(style='whitegrid', palette='muted', font_scale=1.5)\n",
    "\n",
    "rcParams['figure.figsize'] = 12, 6\n",
    "\n",
    "RANDOM_SEED = 42\n",
    "\n",
    "np.random.seed(RANDOM_SEED)"
   ]
  },
  {
   "cell_type": "code",
   "execution_count": 4,
   "metadata": {
    "collapsed": true
   },
   "outputs": [],
   "source": [
    "#activation function\n",
    "def sigmoid(x):\n",
    "    return 1 / (1 + np.exp(-x))\n",
    "#back-prop of activation function\n",
    "def sigmoid_prime(x):\n",
    "    sig = sigmoid(x)\n",
    "    return sig * (1 - sig)"
   ]
  },
  {
   "cell_type": "code",
   "execution_count": 5,
   "metadata": {},
   "outputs": [
    {
     "data": {
      "image/png": "[encoded data removed]",
      "text/plain": [
       "<Figure size 432x288 with 1 Axes>"
      ]
     },
     "metadata": {},
     "output_type": "display_data"
    }
   ],
   "source": [
    "x = np.linspace(-10., 10., num=100)\n",
    "sig = sigmoid(x)\n",
    "sig_prime = sigmoid_prime(x)\n",
    "\n",
    "plt.plot(x, sig, label=\"sigmoid\")\n",
    "plt.plot(x, sig_prime, label=\"sigmoid prime\")\n",
    "plt.xlabel(\"x\")\n",
    "plt.ylabel(\"y\")\n",
    "plt.legend(prop={'size' : 16})\n",
    "plt.show()"
   ]
  },
  {
   "cell_type": "code",
   "execution_count": 6,
   "metadata": {},
   "outputs": [
    {
     "name": "stdout",
     "output_type": "stream",
     "text": [
      "1.0\n"
     ]
    }
   ],
   "source": [
    "def softmax (logits):\n",
    "    exp =[np.exp(i) for i in logits]\n",
    "    sum_exp = np.sum (exp)\n",
    "    return [np.round(i / sum_exp,4) for i in exp]\n",
    "x = np.array([[1.0, 2.0, 3.0, 4.0, 1.0, 2.0, 3.0]])\n",
    "z =  (softmax (x))\n",
    "print (np.sum(z))"
   ]
  },
  {
   "cell_type": "code",
   "execution_count": 76,
   "metadata": {},
   "outputs": [],
   "source": [
    "#training and testing set\n",
    "feature = np.array([[0,0],[0,1],[1,0],[1,1]])\n",
    "labels  = np.array([[0,1],[1,0]])"
   ]
  },
  {
   "cell_type": "code",
   "execution_count": 79,
   "metadata": {},
   "outputs": [],
   "source": [
    "epochs = 50000\n",
    "# 2-3-1\n",
    "input_size, hidden_size, output_size = 2, 3, 1\n",
    "LR = .1 # learning rate\n",
    "# Weights for hidden layers\n",
    "# 2->3\n",
    "w_hidden = np.random.uniform(size=(input_size, hidden_size))\n",
    "w_hidden_bias = np.random.uniform(size=(1,hidden_size))\n",
    "# 3->1\n",
    "w_output = np.random.uniform(size=(hidden_size, output_size))\n",
    "w_output_bias = np.random.uniform(size=(output_size,1 ))"
   ]
  },
  {
   "cell_type": "code",
   "execution_count": 83,
   "metadata": {},
   "outputs": [
    {
     "name": "stdout",
     "output_type": "stream",
     "text": [
      "((1, 2), 'test_input shape')\n",
      "((1, 3), '*', (3, 1))\n",
      "(1, 1)\n",
      "(array([[0, 1]]), 'test input')\n",
      "1\n",
      "('error sum ', 0.13428807081877236, ',', array([[0, 1]]), 'is', 0.8657119291812276)\n",
      "(1, 1)\n",
      "(3, 1)\n"
     ]
    },
    {
     "ename": "ValueError",
     "evalue": "shapes (2,4) and (1,3) not aligned: 4 (dim 1) != 1 (dim 0)",
     "output_type": "error",
     "traceback": [
      "\u001b[0;31m---------------------------------------------------------------------------\u001b[0m",
      "\u001b[0;31mValueError\u001b[0m                                Traceback (most recent call last)",
      "\u001b[0;32m<ipython-input-83-04e9f6f1c806>\u001b[0m in \u001b[0;36m<module>\u001b[0;34m()\u001b[0m\n\u001b[1;32m     23\u001b[0m     \u001b[0;32mprint\u001b[0m\u001b[0;34m(\u001b[0m\u001b[0mw_output\u001b[0m\u001b[0;34m.\u001b[0m\u001b[0mshape\u001b[0m\u001b[0;34m)\u001b[0m\u001b[0;34m\u001b[0m\u001b[0m\n\u001b[1;32m     24\u001b[0m     \u001b[0mdH\u001b[0m \u001b[0;34m=\u001b[0m \u001b[0mnp\u001b[0m\u001b[0;34m.\u001b[0m\u001b[0mdot\u001b[0m\u001b[0;34m(\u001b[0m\u001b[0mdFinal\u001b[0m\u001b[0;34m,\u001b[0m\u001b[0mw_output\u001b[0m\u001b[0;34m.\u001b[0m\u001b[0mT\u001b[0m\u001b[0;34m)\u001b[0m \u001b[0;34m*\u001b[0m \u001b[0msigmoid_prime\u001b[0m\u001b[0;34m(\u001b[0m\u001b[0mact_hidden\u001b[0m\u001b[0;34m)\u001b[0m\u001b[0;34m\u001b[0m\u001b[0m\n\u001b[0;32m---> 25\u001b[0;31m     \u001b[0mw_hidden\u001b[0m \u001b[0;34m+=\u001b[0m \u001b[0mfeature\u001b[0m\u001b[0;34m.\u001b[0m\u001b[0mT\u001b[0m\u001b[0;34m.\u001b[0m\u001b[0mdot\u001b[0m\u001b[0;34m(\u001b[0m\u001b[0mdH\u001b[0m\u001b[0;34m)\u001b[0m\u001b[0;34m\u001b[0m\u001b[0m\n\u001b[0m\u001b[1;32m     26\u001b[0m \u001b[0;34m\u001b[0m\u001b[0m\n\u001b[1;32m     27\u001b[0m \u001b[0;34m\u001b[0m\u001b[0m\n",
      "\u001b[0;31mValueError\u001b[0m: shapes (2,4) and (1,3) not aligned: 4 (dim 1) != 1 (dim 0)"
     ]
    }
   ],
   "source": [
    "#neural network\n",
    "for epoch in range(epochs):\n",
    "    # Generate input\n",
    "    test_input = np.reshape(np.random.randint(2, size=2),(1,2))\n",
    "    print(test_input.shape,'test_input shape')\n",
    "    # Forward\n",
    "    act_hidden = sigmoid(np.dot(test_input, w_hidden) + w_hidden_bias)\n",
    "    print(act_hidden.shape,'*',w_output.shape)\n",
    "    output = sigmoid(np.dot(act_hidden, w_output ) + w_output_bias)\n",
    "    print(output.shape)\n",
    "    # Calculate error\n",
    "    print(test_input,'test input')\n",
    "    print(labels[test_input[0][0]][test_input[0][1]])\n",
    "    error = np.pow(output - labels[test_input[0][0]][test_input[0][1]], 2) / 1 # number of features \n",
    "    \n",
    "    if epoch % 5000 == 0:\n",
    "        print('error sum ',np.sum(error),',',test_input,\"is\",output[0][0])\n",
    "\n",
    "    # Backward\n",
    "    dError = error * LR\n",
    "    print(dFinal.shape)\n",
    "    w_output = w_output + np.dot(output.T,dFinal) * sigmoid_prime(output)\n",
    "    print(w_output.shape)\n",
    "    dH = np.dot(dFinal,w_output.T) * sigmoid_prime(act_hidden)\n",
    "    w_hidden += feature.T.dot(dH)\n",
    "    \n",
    "    "
   ]
  },
  {
   "cell_type": "code",
   "execution_count": 14,
   "metadata": {},
   "outputs": [
    {
     "data": {
      "text/plain": [
       "[0.1103, 0.3897, 0.3897, 0.1103]"
      ]
     },
     "execution_count": 14,
     "metadata": {},
     "output_type": "execute_result"
    }
   ],
   "source": [
    "feature_test = feature[1] # [0, 1]\n",
    "act_hidden = sigmoid(np.dot(feature_test, w_hidden))\n",
    "softmax(np.dot(act_hidden, w_output ))"
   ]
  },
  {
   "cell_type": "code",
   "execution_count": 28,
   "metadata": {},
   "outputs": [
    {
     "name": "stdout",
     "output_type": "stream",
     "text": [
      "[1 4]\n"
     ]
    }
   ],
   "source": [
    "a = np.array([[1,2], [3, 4], [5, 6]])\n",
    "print(a[[0, 1], [0, 1]])  # Prints \"[2 2]\""
   ]
  },
  {
   "cell_type": "code",
   "execution_count": null,
   "metadata": {
    "collapsed": true
   },
   "outputs": [],
   "source": []
  },
  {
   "cell_type": "code",
   "execution_count": null,
   "metadata": {
    "collapsed": true
   },
   "outputs": [],
   "source": []
  },
  {
   "cell_type": "code",
   "execution_count": null,
   "metadata": {
    "collapsed": true
   },
   "outputs": [],
   "source": []
  },
  {
   "cell_type": "code",
   "execution_count": null,
   "metadata": {
    "collapsed": true
   },
   "outputs": [],
   "source": []
  },
  {
   "cell_type": "code",
   "execution_count": null,
   "metadata": {
    "collapsed": true
   },
   "outputs": [],
   "source": []
  },
  {
   "cell_type": "code",
   "execution_count": null,
   "metadata": {
    "collapsed": true
   },
   "outputs": [],
   "source": []
  }
 ],
 "metadata": {
  "kernelspec": {
   "display_name": "Python 2",
   "language": "python",
   "name": "python2"
  },
  "language_info": {
   "codemirror_mode": {
    "name": "ipython",
    "version": 2
   },
   "file_extension": ".py",
   "mimetype": "text/x-python",
   "name": "python",
   "nbconvert_exporter": "python",
   "pygments_lexer": "ipython2",
   "version": "2.7.14"
  }
 },
 "nbformat": 4,
 "nbformat_minor": 2
}
