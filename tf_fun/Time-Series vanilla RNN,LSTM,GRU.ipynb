{
 "cells": [
  {
   "cell_type": "code",
   "execution_count": 1,
   "metadata": {},
   "outputs": [],
   "source": [
    "import matplotlib.pyplot as plt\n",
    "from sklearn import preprocessing as pp"
   ]
  },
  {
   "cell_type": "code",
   "execution_count": 2,
   "metadata": {},
   "outputs": [
    {
     "name": "stderr",
     "output_type": "stream",
     "text": [
      "/home/hackerman/anaconda2/envs/py36/lib/python3.6/site-packages/h5py/__init__.py:36: FutureWarning: Conversion of the second argument of issubdtype from `float` to `np.floating` is deprecated. In future, it will be treated as `np.float64 == np.dtype(float).type`.\n",
      "  from ._conv import register_converters as _register_converters\n"
     ]
    }
   ],
   "source": [
    "import os\n",
    "# propriatary mnist management\n",
    "DATASETSLIB_HOME = './datasetslib'\n",
    "import sys\n",
    "if not DATASETSLIB_HOME in sys.path:\n",
    "    sys.path.append(DATASETSLIB_HOME)\n",
    "%reload_ext autoreload\n",
    "%autoreload 2\n",
    "import datasetslib\n",
    "\n",
    "from datasetslib import util as dsu\n",
    "datasetslib.datasets_root = os.path.join(os.path.expanduser('~'),'datasets')"
   ]
  },
  {
   "cell_type": "code",
   "execution_count": 3,
   "metadata": {},
   "outputs": [],
   "source": [
    "import pandas as pd\n",
    "import numpy as np\n",
    "filename = os.path.join(datasetslib.datasets_root,'international-airline-passengers.csv')\n",
    "dataframe = pd.read_csv(filename,usecols=[1],header=0)\n",
    "dataset = dataframe.values\n",
    "dataset = dataset.astype(np.float32)"
   ]
  },
  {
   "cell_type": "code",
   "execution_count": 4,
   "metadata": {},
   "outputs": [],
   "source": [
    "scaler = pp.MinMaxScaler(feature_range=(0,1))\n",
    "normalized_dataset = scaler.fit_transform(dataset)"
   ]
  },
  {
   "cell_type": "code",
   "execution_count": 5,
   "metadata": {},
   "outputs": [],
   "source": [
    "train,test=dsu.train_test_split(normalized_dataset,train_size=0.67)"
   ]
  },
  {
   "cell_type": "code",
   "execution_count": 6,
   "metadata": {},
   "outputs": [],
   "source": [
    "n_x=1\n",
    "n_y=1\n",
    "X_train, Y_train, X_test, Y_test = dsu.mvts_to_xy(train,test,n_x=n_x,n_y=n_y)"
   ]
  },
  {
   "cell_type": "code",
   "execution_count": 7,
   "metadata": {},
   "outputs": [
    {
     "data": {
      "image/png": "[encoded data removed]",
      "text/plain": [
       "<Figure size 432x288 with 1 Axes>"
      ]
     },
     "metadata": {},
     "output_type": "display_data"
    }
   ],
   "source": [
    "plt.plot(normalized_dataset,label='Original Data')\n",
    "plt.plot(X_train,label='Train Data')\n",
    "plt.legend()\n",
    "plt.show()"
   ]
  },
  {
   "cell_type": "code",
   "execution_count": 8,
   "metadata": {},
   "outputs": [],
   "source": [
    "state_size = 4\n",
    "n_epochs = 1000\n",
    "n_timesteps = n_x\n",
    "learning_rate = 0.1\n",
    "n_x_vars = 1\n",
    "n_y_vars = 1"
   ]
  },
  {
   "cell_type": "code",
   "execution_count": 9,
   "metadata": {},
   "outputs": [],
   "source": [
    "train,test=dsu.train_test_split(normalized_dataset,train_size=0.67)"
   ]
  },
  {
   "cell_type": "code",
   "execution_count": 10,
   "metadata": {},
   "outputs": [],
   "source": [
    "X_train, Y_train, X_test, Y_test = dsu.mvts_to_xy(train,\n",
    "test,n_x=n_x,n_y=n_y)"
   ]
  },
  {
   "cell_type": "code",
   "execution_count": 11,
   "metadata": {},
   "outputs": [],
   "source": [
    "import tensorflow as tf"
   ]
  },
  {
   "cell_type": "code",
   "execution_count": 12,
   "metadata": {},
   "outputs": [],
   "source": [
    "tf.reset_default_graph()"
   ]
  },
  {
   "cell_type": "code",
   "execution_count": 13,
   "metadata": {},
   "outputs": [],
   "source": [
    "X_p = tf.placeholder(tf.float32,[None,n_timesteps,n_x_vars],name='X_p')\n",
    "Y_p = tf.placeholder(tf.float32,[None,n_timesteps,n_y_vars],name='Y_p')"
   ]
  },
  {
   "cell_type": "code",
   "execution_count": 14,
   "metadata": {},
   "outputs": [],
   "source": [
    "rnn_inputs = tf.unstack(X_p,axis=1)"
   ]
  },
  {
   "cell_type": "code",
   "execution_count": 15,
   "metadata": {},
   "outputs": [],
   "source": [
    "# attempt 1\n",
    "# cell = tf.nn.rnn_cell.BasicRNNCell(state_size)\n",
    "# attempt 2\n",
    "# cell = tf.nn.rnn_cell.LSTMCell(state_size)\n",
    "# attempt 3\n",
    "cell = tf.nn.rnn_cell.GRUCell(state_size)"
   ]
  },
  {
   "cell_type": "code",
   "execution_count": 16,
   "metadata": {},
   "outputs": [],
   "source": [
    "rnn_outputs, final_state = tf.nn.static_rnn(cell,rnn_inputs,dtype=tf.float32)"
   ]
  },
  {
   "cell_type": "code",
   "execution_count": 17,
   "metadata": {},
   "outputs": [],
   "source": [
    "W = tf.get_variable('W',[state_size,n_y_vars])\n",
    "b = tf.get_variable('b',[n_y_vars], initializer=tf.constant_initializer(0.0))\n",
    "predictions = [tf.matmul(rnn_output, W) + b for rnn_output in rnn_outputs]"
   ]
  },
  {
   "cell_type": "code",
   "execution_count": 18,
   "metadata": {},
   "outputs": [],
   "source": [
    "y_as_list = tf.unstack(Y_p,num=n_timesteps,axis=1)"
   ]
  },
  {
   "cell_type": "code",
   "execution_count": 19,
   "metadata": {},
   "outputs": [],
   "source": [
    "mse = tf.losses.mean_squared_error\n",
    "losses = [mse(labels=label, predictions=prediction) for prediction, label in zip(predictions, y_as_list)]"
   ]
  },
  {
   "cell_type": "code",
   "execution_count": 20,
   "metadata": {},
   "outputs": [],
   "source": [
    "total_loss = tf.reduce_mean(losses)"
   ]
  },
  {
   "cell_type": "code",
   "execution_count": 21,
   "metadata": {},
   "outputs": [
    {
     "data": {
      "text/plain": [
       "1"
      ]
     },
     "execution_count": 21,
     "metadata": {},
     "output_type": "execute_result"
    }
   ],
   "source": [
    "n_timesteps"
   ]
  },
  {
   "cell_type": "code",
   "execution_count": 22,
   "metadata": {},
   "outputs": [],
   "source": [
    "optimizer = tf.train.AdagradOptimizer(learning_rate).minimize(total_loss)\n"
   ]
  },
  {
   "cell_type": "code",
   "execution_count": 23,
   "metadata": {},
   "outputs": [
    {
     "data": {
      "text/plain": [
       "1000"
      ]
     },
     "execution_count": 23,
     "metadata": {},
     "output_type": "execute_result"
    }
   ],
   "source": [
    "n_epochs"
   ]
  },
  {
   "cell_type": "code",
   "execution_count": 27,
   "metadata": {},
   "outputs": [
    {
     "name": "stdout",
     "output_type": "stream",
     "text": [
      "train mse = 0.0019266330637037754\n",
      "test mse = 0.010709842666983604\n",
      "test rmse = 0.10348837077617645\n"
     ]
    }
   ],
   "source": [
    "with tf.Session() as tfs:\n",
    "    tfs.run(tf.global_variables_initializer())\n",
    "    epoch_loss = 0.0\n",
    "    for epoch in range(n_epochs):\n",
    "        feed_dict={X_p: X_train.reshape(-1, n_timesteps, \n",
    "                                        n_x_vars), \n",
    "                   Y_p: Y_train.reshape(-1, n_timesteps, \n",
    "                                        n_x_vars)\n",
    "                  }\n",
    "        \n",
    "        epoch_loss,y_train_pred,_=tfs.run([total_loss,predictions,optimizer], \n",
    "                                            feed_dict=feed_dict\n",
    "                                           )\n",
    "    print(\"train mse = {}\".format(epoch_loss))\n",
    "    feed_dict={X_p: X_test.reshape(-1, n_timesteps, \n",
    "                                    n_x_vars), \n",
    "               Y_p: Y_test.reshape(-1, n_timesteps, \n",
    "                                    n_y_vars)\n",
    "              }\n",
    "    test_loss, y_test_pred = tfs.run([total_loss,predictions], \n",
    "                                     feed_dict=feed_dict\n",
    "                                    )\n",
    "    print('test mse = {}'.format(test_loss))\n",
    "    print('test rmse = {}'.format(np.sqrt(test_loss)))"
   ]
  },
  {
   "cell_type": "code",
   "execution_count": 30,
   "metadata": {},
   "outputs": [
    {
     "data": {
      "text/plain": [
       "[array([[0.40089086],\n",
       "        [0.37677032],\n",
       "        [0.46902826],\n",
       "        [0.4560428 ],\n",
       "        [0.46741363],\n",
       "        [0.5698816 ],\n",
       "        [0.6291928 ],\n",
       "        [0.63182473],\n",
       "        [0.5435267 ],\n",
       "        [0.45440865],\n",
       "        [0.38370332],\n",
       "        [0.4362767 ],\n",
       "        [0.4429031 ],\n",
       "        [0.40600574],\n",
       "        [0.47866413],\n",
       "        [0.4560428 ],\n",
       "        [0.48026136],\n",
       "        [0.5883595 ],\n",
       "        [0.6625253 ],\n",
       "        [0.67968345],\n",
       "        [0.5435267 ],\n",
       "        [0.47385737],\n",
       "        [0.39232337],\n",
       "        [0.43793678],\n",
       "        [0.4754621 ],\n",
       "        [0.44620228],\n",
       "        [0.5464988 ],\n",
       "        [0.5315305 ],\n",
       "        [0.5669973 ],\n",
       "        [0.638355  ],\n",
       "        [0.72897124],\n",
       "        [0.7407681 ],\n",
       "        [0.62654954],\n",
       "        [0.54798067],\n",
       "        [0.47866413],\n",
       "        [0.545014  ],\n",
       "        [0.56264997],\n",
       "        [0.5239458 ],\n",
       "        [0.5655508 ],\n",
       "        [0.62389505],\n",
       "        [0.638355  ],\n",
       "        [0.71460736],\n",
       "        [0.80226254],\n",
       "        [0.7875954 ],\n",
       "        [0.68328846],\n",
       "        [0.62389505],\n",
       "        [0.5224209 ]], dtype=float32)]"
      ]
     },
     "execution_count": 30,
     "metadata": {},
     "output_type": "execute_result"
    }
   ],
   "source": [
    "y_test_pred"
   ]
  },
  {
   "cell_type": "code",
   "execution_count": 25,
   "metadata": {},
   "outputs": [],
   "source": [
    "y_train_pred=y_train_pred[0]\n",
    "y_test_pred=y_test_pred[0]"
   ]
  },
  {
   "cell_type": "code",
   "execution_count": 26,
   "metadata": {},
   "outputs": [],
   "source": [
    "#invert predictions\n",
    "y_train_pred = scaler.inverse_transform(y_train_pred)\n",
    "y_test_pred = scaler.inverse_transform(y_test_pred)\n",
    "\n",
    "#invert originals\n",
    "y_train_orig = scaler.inverse_transform(Y_train)\n",
    "y_test_orig = scaler.inverse_transform(Y_test)"
   ]
  },
  {
   "cell_type": "code",
   "execution_count": 73,
   "metadata": {},
   "outputs": [
    {
     "data": {
      "image/png": "[encoded data removed]",
      "text/plain": [
       "<Figure size 432x288 with 1 Axes>"
      ]
     },
     "metadata": {},
     "output_type": "display_data"
    }
   ],
   "source": [
    "# shift train predictions for plotting\n",
    "trainPredictPlot = np.empty_like(dataset)\n",
    "trainPredictPlot[:, :] = np.nan\n",
    "trainPredictPlot[n_x-1:len(y_train_pred)+n_x-1, :] = y_train_pred\n",
    "# shift test predictions for plotting\n",
    "testPredictPlot = np.empty_like(dataset)\n",
    "testPredictPlot[:, :] = np.nan\n",
    "testPredictPlot[len(y_train_pred)+(n_x*2)-1:len(dataset)-1, :] = y_test_pred\n",
    "# plot baseline and predictions\n",
    "plt.plot(dataset,label='Original Data')\n",
    "plt.plot(trainPredictPlot,label='y_train_pred')\n",
    "plt.plot(testPredictPlot,label='y_test_pred')\n",
    "plt.legend()\n",
    "plt.xlabel('Timesteps')\n",
    "plt.ylabel('Total Passengers')\n",
    "plt.show()"
   ]
  },
  {
   "cell_type": "code",
   "execution_count": null,
   "metadata": {},
   "outputs": [],
   "source": []
  },
  {
   "cell_type": "code",
   "execution_count": null,
   "metadata": {},
   "outputs": [],
   "source": []
  }
 ],
 "metadata": {
  "kernelspec": {
   "display_name": "Python [conda env:py36]",
   "language": "python",
   "name": "conda-env-py36-py"
  },
  "language_info": {
   "codemirror_mode": {
    "name": "ipython",
    "version": 3
   },
   "file_extension": ".py",
   "mimetype": "text/x-python",
   "name": "python",
   "nbconvert_exporter": "python",
   "pygments_lexer": "ipython3",
   "version": "3.6.4"
  }
 },
 "nbformat": 4,
 "nbformat_minor": 2
}
