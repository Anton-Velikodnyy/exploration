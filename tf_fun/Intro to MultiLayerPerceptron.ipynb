{
 "cells": [
  {
   "cell_type": "code",
   "execution_count": 1,
   "metadata": {},
   "outputs": [
    {
     "name": "stderr",
     "output_type": "stream",
     "text": [
      "/home/hackerman/anaconda2/envs/py36/lib/python3.6/site-packages/h5py/__init__.py:36: FutureWarning: Conversion of the second argument of issubdtype from `float` to `np.floating` is deprecated. In future, it will be treated as `np.float64 == np.dtype(float).type`.\n",
      "  from ._conv import register_converters as _register_converters\n"
     ]
    }
   ],
   "source": [
    "import os\n",
    "import tensorflow as tf\n",
    "import tensorflow.python.keras"
   ]
  },
  {
   "cell_type": "code",
   "execution_count": 2,
   "metadata": {},
   "outputs": [],
   "source": [
    "# propriatary mnist management\n",
    "DATASETSLIB_HOME = './datasetslib'\n",
    "import sys\n",
    "if not DATASETSLIB_HOME in sys.path:\n",
    "    sys.path.append(DATASETSLIB_HOME)\n",
    "%reload_ext autoreload\n",
    "%autoreload 2\n",
    "import datasetslib\n",
    "\n",
    "from datasetslib import util as dsu"
   ]
  },
  {
   "cell_type": "code",
   "execution_count": 3,
   "metadata": {},
   "outputs": [],
   "source": [
    "datasetslib.datasets_root = os.path.join(os.path.expanduser('~'),'datasets')"
   ]
  },
  {
   "cell_type": "code",
   "execution_count": null,
   "metadata": {},
   "outputs": [],
   "source": [
    "import sklearn.datasets."
   ]
  },
  {
   "cell_type": "code",
   "execution_count": 4,
   "metadata": {},
   "outputs": [
    {
     "name": "stdout",
     "output_type": "stream",
     "text": [
      "Extracting /home/hackerman/datasets/mnist/train-images-idx3-ubyte.gz\n",
      "Extracting /home/hackerman/datasets/mnist/train-labels-idx1-ubyte.gz\n",
      "Extracting /home/hackerman/datasets/mnist/t10k-images-idx3-ubyte.gz\n",
      "Extracting /home/hackerman/datasets/mnist/t10k-labels-idx1-ubyte.gz\n"
     ]
    }
   ],
   "source": [
    "from tensorflow.examples.tutorials.mnist import input_data\n",
    "mnist = input_data.read_data_sets(os.path.join(datasetslib.datasets_root, 'mnist'),\n",
    "                                  one_hot=True)"
   ]
  },
  {
   "cell_type": "code",
   "execution_count": 76,
   "metadata": {},
   "outputs": [],
   "source": [
    "X_train = mnist.train.images\n",
    "X_test = mnist.test.images\n",
    "Y_train = mnist.train.labels\n",
    "Y_test = mnist.test.labels"
   ]
  },
  {
   "cell_type": "code",
   "execution_count": 6,
   "metadata": {},
   "outputs": [],
   "source": [
    "num_outputs = 10 # image classes\n",
    "num_inputs = 784 # size of flattened image\n",
    "\n"
   ]
  },
  {
   "cell_type": "code",
   "execution_count": 7,
   "metadata": {},
   "outputs": [
    {
     "data": {
      "text/plain": [
       "'w_55545'"
      ]
     },
     "execution_count": 7,
     "metadata": {},
     "output_type": "execute_result"
    }
   ],
   "source": [
    "\"w_{0:04d}\".format(55545)"
   ]
  },
  {
   "cell_type": "code",
   "execution_count": 17,
   "metadata": {},
   "outputs": [],
   "source": [
    "def mlp(x, num_inputs, num_outputs, num_layers, num_neurons):\n",
    "    w = []\n",
    "    b = []\n",
    "    for i in range(num_layers):\n",
    "        # weights\n",
    "        w.append(tf.Variable(tf.random_normal(\n",
    "            [num_inputs if i == 0 else num_neurons[i - 1],\n",
    "             num_neurons[i]]),\n",
    "            name=\"w_{0:04d}\".format(i)\n",
    "        ))\n",
    "        # biases\n",
    "        b.append(tf.Variable(tf.random_normal(\n",
    "            [num_neurons[i]]),\n",
    "            name=\"b_{0:04d}\".format(i)\n",
    "        ))\n",
    "    w.append(tf.Variable(tf.random_normal(\n",
    "        [num_neurons[num_layers - 1] if num_layers > 0 else num_inputs,\n",
    "         num_outputs]), name=\"w_out\"))\n",
    "    b.append(tf.Variable(tf.random_normal([num_outputs]), name=\"b_out\"))\n",
    "\n",
    "    # x is input layer\n",
    "    layer = x\n",
    "    # add hidden layers\n",
    "    for i in range(num_layers):\n",
    "        layer = tf.nn.relu(tf.matmul(layer, w[i]) + b[i])\n",
    "    # add output layer\n",
    "    layer = tf.matmul(layer, w[num_layers]) + b[num_layers]\n",
    "\n",
    "    return layer"
   ]
  },
  {
   "cell_type": "code",
   "execution_count": 18,
   "metadata": {},
   "outputs": [],
   "source": [
    "def mnist_batch_func(batch_size=100):\n",
    "    X_batch, Y_batch = mnist.train.next_batch(batch_size)\n",
    "    return [X_batch, Y_batch]"
   ]
  },
  {
   "cell_type": "code",
   "execution_count": 40,
   "metadata": {},
   "outputs": [],
   "source": [
    "def tensorflow_classification( n_epochs, n_batches, batch_size, batch_func, model, optimizer, loss, accuracy_function,\n",
    "                             X_test, y_test):\n",
    "    with tf.Session() as tfs:\n",
    "        tf.global_variables_initializer().run()\n",
    "        for epoch in range(n_epochs):\n",
    "            epoch_loss = 0.0\n",
    "            for batch in range(n_batches):\n",
    "                X_train, y_train = batch_func(batch_size)\n",
    "                feed_dict = {x:X_train,y:y_train}\n",
    "                _, batch_loss = tfs.run([optimizer,loss],feed_dict=feed_dict)\n",
    "                epoch_loss += batch_loss\n",
    "            average_loss = batch_loss / n_batches\n",
    "            print('epoch: {0:04d} loss = {1:0.6f}'.format(epoch, average_loss))\n",
    "        # evaluating accuracy of model\n",
    "        feed_dict = {x:X_test,y:y_test}\n",
    "        accuracy_score = tfs.run(accuracy_function,feed_dict=feed_dict)\n",
    "        print('accuracy={0:.8f}'.format(accuracy_score))\n",
    "        \n",
    "        "
   ]
  },
  {
   "cell_type": "code",
   "execution_count": 41,
   "metadata": {},
   "outputs": [],
   "source": [
    "tf.reset_default_graph()"
   ]
  },
  {
   "cell_type": "code",
   "execution_count": 42,
   "metadata": {},
   "outputs": [
    {
     "name": "stdout",
     "output_type": "stream",
     "text": [
      "epoch: 0000 loss = 0.009326\n",
      "epoch: 0001 loss = 0.007104\n",
      "epoch: 0002 loss = 0.005698\n",
      "epoch: 0003 loss = 0.003641\n",
      "epoch: 0004 loss = 0.003694\n",
      "epoch: 0005 loss = 0.002356\n",
      "epoch: 0006 loss = 0.002393\n",
      "epoch: 0007 loss = 0.002766\n",
      "epoch: 0008 loss = 0.002776\n",
      "epoch: 0009 loss = 0.001864\n",
      "epoch: 0010 loss = 0.003413\n",
      "epoch: 0011 loss = 0.002013\n",
      "epoch: 0012 loss = 0.002048\n",
      "epoch: 0013 loss = 0.003716\n",
      "epoch: 0014 loss = 0.002628\n",
      "epoch: 0015 loss = 0.002049\n",
      "epoch: 0016 loss = 0.001612\n",
      "epoch: 0017 loss = 0.001740\n",
      "epoch: 0018 loss = 0.001519\n",
      "epoch: 0019 loss = 0.000880\n",
      "epoch: 0020 loss = 0.002384\n",
      "epoch: 0021 loss = 0.001315\n",
      "epoch: 0022 loss = 0.001029\n",
      "epoch: 0023 loss = 0.002015\n",
      "epoch: 0024 loss = 0.001260\n",
      "epoch: 0025 loss = 0.000866\n",
      "epoch: 0026 loss = 0.001562\n",
      "epoch: 0027 loss = 0.000724\n",
      "epoch: 0028 loss = 0.000837\n",
      "epoch: 0029 loss = 0.001487\n",
      "epoch: 0030 loss = 0.002126\n",
      "epoch: 0031 loss = 0.001531\n",
      "epoch: 0032 loss = 0.002336\n",
      "epoch: 0033 loss = 0.000812\n",
      "epoch: 0034 loss = 0.001146\n",
      "epoch: 0035 loss = 0.001180\n",
      "epoch: 0036 loss = 0.001599\n",
      "epoch: 0037 loss = 0.001188\n",
      "epoch: 0038 loss = 0.000850\n",
      "epoch: 0039 loss = 0.001713\n",
      "epoch: 0040 loss = 0.001185\n",
      "epoch: 0041 loss = 0.002061\n",
      "epoch: 0042 loss = 0.001476\n",
      "epoch: 0043 loss = 0.001588\n",
      "epoch: 0044 loss = 0.001168\n",
      "epoch: 0045 loss = 0.001504\n",
      "epoch: 0046 loss = 0.001218\n",
      "epoch: 0047 loss = 0.000909\n",
      "epoch: 0048 loss = 0.001292\n",
      "epoch: 0049 loss = 0.001197\n",
      "accuracy=0.86170000\n"
     ]
    }
   ],
   "source": [
    "\n",
    "x = tf.placeholder(dtype=tf.float32,shape=[None,num_inputs],name='x')\n",
    "y = tf.placeholder(dtype=tf.float32,shape=[None,num_outputs],name='y')\n",
    "\n",
    "num_layers = 0\n",
    "num_neurons = []\n",
    "learning_rate = 0.01\n",
    "n_epochs = 50\n",
    "batch_size = 100\n",
    "n_batches = int(mnist.train.num_examples/batch_size)\n",
    "\n",
    "model = mlp(x=x,\n",
    "            num_inputs=num_inputs,\n",
    "            num_outputs=num_outputs,\n",
    "            num_layers=num_layers,\n",
    "            num_neurons=num_neurons)\n",
    "loss = tf.reduce_mean(tf.nn.softmax_cross_entropy_with_logits(logits=model, labels=y))\n",
    "optimizer = tf.train.GradientDescentOptimizer(learning_rate=learning_rate).minimize(loss)\n",
    "\n",
    "prediction_check=tf.equal(tf.argmax(model,1),tf.argmax(y,1))\n",
    "accuracy_function = tf.reduce_mean(tf.cast(prediction_check,tf.float32))\n",
    "\n",
    "tensorflow_classification(n_epochs=n_epochs,\n",
    "    n_batches=n_batches,\n",
    "    batch_size=batch_size,\n",
    "    batch_func=mnist_batch_func,\n",
    "    model = model,\n",
    "    optimizer = optimizer,\n",
    "    loss = loss,\n",
    "    accuracy_function = accuracy_function,\n",
    "    X_test = mnist.test.images,\n",
    "    y_test = mnist.test.labels\n",
    ")\n",
    "\n"
   ]
  },
  {
   "cell_type": "markdown",
   "metadata": {},
   "source": [
    "## Now lets do it with keras"
   ]
  },
  {
   "cell_type": "code",
   "execution_count": 47,
   "metadata": {},
   "outputs": [],
   "source": [
    "import tensorflow.python.keras\n",
    "from tensorflow.python.keras.models import Sequential\n",
    "from tensorflow.python.keras.layers import Dense\n",
    "from tensorflow.python.keras.optimizers import SGD"
   ]
  },
  {
   "cell_type": "code",
   "execution_count": 48,
   "metadata": {},
   "outputs": [],
   "source": [
    "num_layers = 2\n",
    "num_neurons =[]\n",
    "for i in range(num_layers):\n",
    "    num_neurons.append(256)\n",
    "learning_rate = .01\n",
    "n_epochs = 50\n",
    "batch_size = 100"
   ]
  },
  {
   "cell_type": "code",
   "execution_count": 50,
   "metadata": {},
   "outputs": [
    {
     "name": "stdout",
     "output_type": "stream",
     "text": [
      "_________________________________________________________________\n",
      "Layer (type)                 Output Shape              Param #   \n",
      "=================================================================\n",
      "dense_2 (Dense)              (None, 256)               200960    \n",
      "_________________________________________________________________\n",
      "dense_3 (Dense)              (None, 256)               65792     \n",
      "_________________________________________________________________\n",
      "dense_4 (Dense)              (None, 10)                2570      \n",
      "=================================================================\n",
      "Total params: 269,322\n",
      "Trainable params: 269,322\n",
      "Non-trainable params: 0\n",
      "_________________________________________________________________\n"
     ]
    }
   ],
   "source": [
    "model = Sequential()\n",
    "model.add(Dense(units=num_neurons[0],activation='relu',input_shape=(num_inputs,)))\n",
    "model.add(Dense(units=num_neurons[1],activation='relu'))\n",
    "model.add(Dense(units=num_outputs,activation='softmax'))\n",
    "model.summary()\n",
    "\n"
   ]
  },
  {
   "cell_type": "code",
   "execution_count": 52,
   "metadata": {},
   "outputs": [
    {
     "name": "stdout",
     "output_type": "stream",
     "text": [
      "WARNING:tensorflow:From /home/hackerman/anaconda2/envs/py36/lib/python3.6/site-packages/tensorflow/python/keras/_impl/keras/backend.py:3086: calling reduce_sum (from tensorflow.python.ops.math_ops) with keep_dims is deprecated and will be removed in a future version.\n",
      "Instructions for updating:\n",
      "keep_dims is deprecated, use keepdims instead\n",
      "WARNING:tensorflow:From /home/hackerman/anaconda2/envs/py36/lib/python3.6/site-packages/tensorflow/python/keras/_impl/keras/backend.py:1557: calling reduce_mean (from tensorflow.python.ops.math_ops) with keep_dims is deprecated and will be removed in a future version.\n",
      "Instructions for updating:\n",
      "keep_dims is deprecated, use keepdims instead\n"
     ]
    }
   ],
   "source": [
    "model.compile(loss='categorical_crossentropy',\n",
    "              optimizer=SGD(lr=learning_rate),\n",
    "              metrics=['accuracy'])"
   ]
  },
  {
   "cell_type": "code",
   "execution_count": 55,
   "metadata": {
    "scrolled": true
   },
   "outputs": [
    {
     "name": "stdout",
     "output_type": "stream",
     "text": [
      "Epoch 1/50\n",
      "55000/55000 [==============================]55000/55000 [==============================] - 18s 323us/step - loss: 1.1171 - acc: 0.7366\n",
      "\n",
      "Epoch 2/50\n",
      "55000/55000 [==============================]55000/55000 [==============================] - 17s 310us/step - loss: 0.4401 - acc: 0.8830\n",
      "\n",
      "Epoch 3/50\n",
      "55000/55000 [==============================]55000/55000 [==============================] - 23s 418us/step - loss: 0.3551 - acc: 0.9003\n",
      "\n",
      "Epoch 4/50\n",
      "55000/55000 [==============================]55000/55000 [==============================] - 27s 489us/step - loss: 0.3164 - acc: 0.9108\n",
      "\n",
      "Epoch 5/50\n",
      "55000/55000 [==============================]55000/55000 [==============================] - 24s 438us/step - loss: 0.2907 - acc: 0.9178\n",
      "\n",
      "Epoch 6/50\n",
      "55000/55000 [==============================]55000/55000 [==============================] - 29s 527us/step - loss: 0.2705 - acc: 0.9231\n",
      "\n",
      "Epoch 7/50\n",
      "55000/55000 [==============================]55000/55000 [==============================] - 26s 468us/step - loss: 0.2537 - acc: 0.9289\n",
      "\n",
      "Epoch 8/50\n",
      "55000/55000 [==============================]55000/55000 [==============================] - 26s 478us/step - loss: 0.2389 - acc: 0.9326\n",
      "\n",
      "Epoch 9/50\n",
      "55000/55000 [==============================]55000/55000 [==============================] - 23s 423us/step - loss: 0.2264 - acc: 0.9361\n",
      "\n",
      "Epoch 10/50\n",
      "55000/55000 [==============================]55000/55000 [==============================] - 23s 414us/step - loss: 0.2150 - acc: 0.9394\n",
      "\n",
      "Epoch 11/50\n",
      "55000/55000 [==============================]55000/55000 [==============================] - 21s 388us/step - loss: 0.2048 - acc: 0.9418\n",
      "\n",
      "Epoch 12/50\n",
      "55000/55000 [==============================]55000/55000 [==============================] - 22s 398us/step - loss: 0.1953 - acc: 0.9448\n",
      "\n",
      "Epoch 13/50\n",
      "55000/55000 [==============================]55000/55000 [==============================] - 22s 406us/step - loss: 0.1871 - acc: 0.9471\n",
      "\n",
      "Epoch 14/50\n",
      "55000/55000 [==============================]55000/55000 [==============================] - 23s 419us/step - loss: 0.1790 - acc: 0.9490\n",
      "\n",
      "Epoch 15/50\n",
      "55000/55000 [==============================]55000/55000 [==============================] - 23s 410us/step - loss: 0.1723 - acc: 0.9510\n",
      "\n",
      "Epoch 16/50\n",
      "55000/55000 [==============================]55000/55000 [==============================] - 22s 406us/step - loss: 0.1655 - acc: 0.9527\n",
      "\n",
      "Epoch 17/50\n",
      "55000/55000 [==============================]55000/55000 [==============================] - 22s 394us/step - loss: 0.1595 - acc: 0.9543\n",
      "\n",
      "Epoch 18/50\n",
      "55000/55000 [==============================]55000/55000 [==============================] - 22s 395us/step - loss: 0.1535 - acc: 0.9562\n",
      "\n",
      "Epoch 19/50\n",
      "55000/55000 [==============================]55000/55000 [==============================] - 21s 388us/step - loss: 0.1482 - acc: 0.9579\n",
      "\n",
      "Epoch 20/50\n",
      "55000/55000 [==============================]55000/55000 [==============================] - 24s 430us/step - loss: 0.1430 - acc: 0.9591\n",
      "\n",
      "Epoch 21/50\n",
      "55000/55000 [==============================]55000/55000 [==============================] - 24s 436us/step - loss: 0.1382 - acc: 0.9607000 [===========================>..] - ETA: 0s - loss: 0.1379 \n",
      "\n",
      "Epoch 22/50\n",
      "55000/55000 [==============================]55000/55000 [==============================] - 23s 419us/step - loss: 0.1336 - acc: 0.9625\n",
      "\n",
      "Epoch 23/50\n",
      "55000/55000 [==============================]55000/55000 [==============================] - 24s 435us/step - loss: 0.1293 - acc: 0.9634\n",
      "\n",
      "Epoch 24/50\n",
      "55000/55000 [==============================]55000/55000 [==============================] - 23s 421us/step - loss: 0.1253 - acc: 0.9650\n",
      "\n",
      "Epoch 25/50\n",
      "55000/55000 [==============================]55000/55000 [==============================] - 22s 407us/step - loss: 0.1214 - acc: 0.9659\n",
      "\n",
      "Epoch 26/50\n",
      "55000/55000 [==============================]55000/55000 [==============================] - 24s 436us/step - loss: 0.1178 - acc: 0.9666\n",
      "\n",
      "Epoch 27/50\n",
      "55000/55000 [==============================]55000/55000 [==============================] - 26s 470us/step - loss: 0.1144 - acc: 0.9679\n",
      "\n",
      "Epoch 28/50\n",
      "55000/55000 [==============================]55000/55000 [==============================] - 23s 414us/step - loss: 0.1111 - acc: 0.9687\n",
      "\n",
      "Epoch 29/50\n",
      "55000/55000 [==============================]55000/55000 [==============================] - 21s 377us/step - loss: 0.1081 - acc: 0.9698\n",
      "\n",
      "Epoch 30/50\n",
      "55000/55000 [==============================]55000/55000 [==============================] - 20s 365us/step - loss: 0.1050 - acc: 0.9706\n",
      "\n",
      "Epoch 31/50\n",
      "55000/55000 [==============================]55000/55000 [==============================] - 23s 413us/step - loss: 0.1022 - acc: 0.9714\n",
      "\n",
      "Epoch 32/50\n",
      "55000/55000 [==============================]55000/55000 [==============================] - 21s 379us/step - loss: 0.0996 - acc: 0.9715\n",
      "\n",
      "Epoch 33/50\n",
      "55000/55000 [==============================]55000/55000 [==============================] - 23s 414us/step - loss: 0.0968 - acc: 0.9730\n",
      "\n",
      "Epoch 34/50\n",
      "55000/55000 [==============================]55000/55000 [==============================] - 25s 446us/step - loss: 0.0943 - acc: 0.9736\n",
      "\n",
      "Epoch 35/50\n",
      "55000/55000 [==============================]55000/55000 [==============================] - 21s 387us/step - loss: 0.0917 - acc: 0.9745\n",
      "\n",
      "Epoch 36/50\n",
      "55000/55000 [==============================]55000/55000 [==============================] - 21s 375us/step - loss: 0.0895 - acc: 0.9752\n",
      "\n",
      "Epoch 37/50\n",
      "55000/55000 [==============================]55000/55000 [==============================] - 20s 369us/step - loss: 0.0870 - acc: 0.9759\n",
      "\n",
      "Epoch 38/50\n",
      "55000/55000 [==============================]55000/55000 [==============================] - 20s 367us/step - loss: 0.0854 - acc: 0.9764\n",
      "\n",
      "Epoch 39/50\n",
      "55000/55000 [==============================]55000/55000 [==============================] - 22s 409us/step - loss: 0.0831 - acc: 0.9771\n",
      "\n",
      "Epoch 40/50\n",
      "55000/55000 [==============================]55000/55000 [==============================] - 27s 489us/step - loss: 0.0811 - acc: 0.9777\n",
      "\n",
      "Epoch 41/50\n",
      "55000/55000 [==============================]55000/55000 [==============================] - 26s 477us/step - loss: 0.0793 - acc: 0.9783\n",
      "\n",
      "Epoch 42/50\n",
      "55000/55000 [==============================]55000/55000 [==============================] - 28s 504us/step - loss: 0.0772 - acc: 0.9784\n",
      "\n",
      "Epoch 43/50\n",
      "55000/55000 [==============================]55000/55000 [==============================] - 27s 499us/step - loss: 0.0756 - acc: 0.9791\n",
      "\n",
      "Epoch 44/50\n",
      "55000/55000 [==============================]55000/55000 [==============================] - 29s 522us/step - loss: 0.0738 - acc: 0.9801\n",
      "\n",
      "Epoch 45/50\n",
      "55000/55000 [==============================]55000/55000 [==============================] - 25s 457us/step - loss: 0.0720 - acc: 0.9802\n",
      "\n",
      "Epoch 46/50\n",
      "55000/55000 [==============================]55000/55000 [==============================] - 21s 378us/step - loss: 0.0705 - acc: 0.9806\n",
      "\n",
      "Epoch 47/50\n",
      "55000/55000 [==============================]55000/55000 [==============================] - 22s 399us/step - loss: 0.0688 - acc: 0.9812\n",
      "\n",
      "Epoch 48/50\n",
      "55000/55000 [==============================]55000/55000 [==============================] - 22s 400us/step - loss: 0.0674 - acc: 0.9819\n",
      "\n",
      "Epoch 49/50\n",
      "55000/55000 [==============================]55000/55000 [==============================] - 24s 435us/step - loss: 0.0656 - acc: 0.9827\n",
      "\n",
      "Epoch 50/50\n",
      "55000/55000 [==============================]55000/55000 [==============================] - 21s 379us/step - loss: 0.0644 - acc: 0.9826\n",
      "\n"
     ]
    },
    {
     "data": {
      "text/plain": [
       "<tensorflow.python.keras._impl.keras.callbacks.History at 0x7f32a66fc518>"
      ]
     },
     "execution_count": 55,
     "metadata": {},
     "output_type": "execute_result"
    }
   ],
   "source": [
    "model.fit(X_train,Y_train,batch_size=batch_size,epochs=n_epochs)"
   ]
  },
  {
   "cell_type": "code",
   "execution_count": 56,
   "metadata": {},
   "outputs": [
    {
     "name": "stdout",
     "output_type": "stream",
     "text": [
      "10000/10000 [==============================]10000/10000 [==============================] - 3s 253us/step\n",
      "\n",
      "\n",
      "\n",
      "Test loss :0.0895692008530721\n",
      "Test accuracy :0.974\n"
     ]
    }
   ],
   "source": [
    "score = model.evaluate(X_test,Y_test)\n",
    "print('\\n\\nTest loss :{}'.format(score[0]))\n",
    "print('Test accuracy :{}'.format(score[1]))"
   ]
  },
  {
   "cell_type": "code",
   "execution_count": 78,
   "metadata": {},
   "outputs": [],
   "source": [
    "tf.reset_default_graph()"
   ]
  },
  {
   "cell_type": "code",
   "execution_count": 79,
   "metadata": {},
   "outputs": [],
   "source": [
    "num_layers = 2\n",
    "num_neurons = []\n",
    "for i in range(num_layers):\n",
    "    num_neurons.append(256)\n",
    "    \n",
    "learning_rate = 0.01\n",
    "n_epochs = 50\n",
    "batch_size = 100\n"
   ]
  },
  {
   "cell_type": "code",
   "execution_count": 80,
   "metadata": {},
   "outputs": [],
   "source": [
    "# Build deep neural network\n",
    "input_layer = tflearn.input_data(shape=[None, num_inputs])\n",
    "dense1 = tflearn.fully_connected(input_layer, num_neurons[0], activation='relu')\n",
    "dense2 = tflearn.fully_connected(dense1, num_neurons[1], activation='relu')\n",
    "softmax = tflearn.fully_connected(dense2, num_outputs, activation='softmax')"
   ]
  },
  {
   "cell_type": "code",
   "execution_count": 81,
   "metadata": {},
   "outputs": [],
   "source": [
    "optimizer = tflearn.SGD(learning_rate=learning_rate)\n",
    "net = tflearn.regression(softmax,optimizer=optimizer,\n",
    "                        metric=tflearn.Accuracy(),\n",
    "                        loss = 'categorical_crossentropy')\n",
    "model = tflearn.DNN(net)"
   ]
  },
  {
   "cell_type": "code",
   "execution_count": 82,
   "metadata": {},
   "outputs": [
    {
     "name": "stdout",
     "output_type": "stream",
     "text": [
      "Training Step: 27499  | total loss: \u001b[1m\u001b[32m0.09633\u001b[0m\u001b[0m | time: 17.335s\n",
      "| SGD | epoch: 050 | loss: 0.09633 - acc: 0.9737 -- iter: 54900/55000\n",
      "Training Step: 27500  | total loss: \u001b[1m\u001b[32m0.09236\u001b[0m\u001b[0m | time: 17.363s\n",
      "| SGD | epoch: 050 | loss: 0.09236 - acc: 0.9763 -- iter: 55000/55000\n",
      "--\n"
     ]
    }
   ],
   "source": [
    "model.fit(X_train, Y_train,\n",
    "          n_epoch=n_epochs,\n",
    "          batch_size=batch_size,\n",
    "          show_metric=True,\n",
    "          run_id='dense_model')"
   ]
  },
  {
   "cell_type": "code",
   "execution_count": 83,
   "metadata": {},
   "outputs": [
    {
     "name": "stdout",
     "output_type": "stream",
     "text": [
      "Test accuracy: 0.9669\n"
     ]
    }
   ],
   "source": [
    "score = model.evaluate(X_test, Y_test)\n",
    "print('Test accuracy:', score[0])"
   ]
  },
  {
   "cell_type": "markdown",
   "metadata": {},
   "source": [
    "# Time Series Multi-Layer Perceptron"
   ]
  },
  {
   "cell_type": "code",
   "execution_count": 37,
   "metadata": {},
   "outputs": [],
   "source": [
    "import pandas as pd\n",
    "from sklearn.preprocessing import MinMaxScaler\n",
    "import numpy as np"
   ]
  },
  {
   "cell_type": "code",
   "execution_count": 38,
   "metadata": {},
   "outputs": [],
   "source": [
    "filename = os.path.join(datasetslib.datasets_root,'international-airline-passengers.csv')\n",
    "dataframe = pd.read_csv(filename,usecols=[1],header=0)\n",
    "dataset = dataframe.values\n",
    "dataset = dataset.astype('float32')"
   ]
  },
  {
   "cell_type": "code",
   "execution_count": 39,
   "metadata": {},
   "outputs": [],
   "source": [
    "scaler = MinMaxScaler(feature_range=(0,1))\n",
    "normalized_dataset = scaler.fit_transform(dataset)"
   ]
  },
  {
   "cell_type": "code",
   "execution_count": 40,
   "metadata": {},
   "outputs": [
    {
     "name": "stdout",
     "output_type": "stream",
     "text": [
      "96 48\n"
     ]
    }
   ],
   "source": [
    "train,test=dsu.train_test_split(normalized_dataset,train_size=0.67)\n",
    "print(len(train), len(test))\n"
   ]
  },
  {
   "cell_type": "code",
   "execution_count": 41,
   "metadata": {},
   "outputs": [],
   "source": [
    "n_x=2\n",
    "n_y=1\n",
    "X_train, Y_train, X_test, Y_test = dsu.mvts_to_xy(train,test,n_x=n_x,n_y=n_y)"
   ]
  },
  {
   "cell_type": "code",
   "execution_count": 53,
   "metadata": {},
   "outputs": [
    {
     "data": {
      "text/plain": [
       "array([[0.05405405],\n",
       "       [0.04826255],\n",
       "       [0.03281853],\n",
       "       [0.05984557],\n",
       "       [0.08494207],\n",
       "       [0.08494207],\n",
       "       [0.06177607],\n",
       "       [0.02895753],\n",
       "       [0.        ],\n",
       "       [0.02702703],\n",
       "       [0.02123553],\n",
       "       [0.04247104],\n",
       "       [0.07142857],\n",
       "       [0.05984557],\n",
       "       [0.04054055],\n",
       "       [0.08687258],\n",
       "       [0.12741312],\n",
       "       [0.12741312],\n",
       "       [0.10424709],\n",
       "       [0.05598456],\n",
       "       [0.01930502],\n",
       "       [0.06949806],\n",
       "       [0.07915059],\n",
       "       [0.08880308],\n",
       "       [0.14285713],\n",
       "       [0.11389962],\n",
       "       [0.13127413],\n",
       "       [0.14285713],\n",
       "       [0.18339768],\n",
       "       [0.18339768],\n",
       "       [0.15444016],\n",
       "       [0.11196911],\n",
       "       [0.08108109],\n",
       "       [0.1196911 ],\n",
       "       [0.12934363],\n",
       "       [0.14671814],\n",
       "       [0.17181468],\n",
       "       [0.14864865],\n",
       "       [0.15250966],\n",
       "       [0.22007722],\n",
       "       [0.24324325],\n",
       "       [0.26640925],\n",
       "       [0.2027027 ],\n",
       "       [0.16795367],\n",
       "       [0.13127413],\n",
       "       [0.17374519],\n",
       "       [0.17760617],\n",
       "       [0.17760617],\n",
       "       [0.25482625],\n",
       "       [0.25289574],\n",
       "       [0.24131274],\n",
       "       [0.26833975],\n",
       "       [0.3088803 ],\n",
       "       [0.32432434],\n",
       "       [0.25675675],\n",
       "       [0.20656371],\n",
       "       [0.14671814],\n",
       "       [0.18725869],\n",
       "       [0.19305018],\n",
       "       [0.16216215],\n",
       "       [0.25289574],\n",
       "       [0.23745173],\n",
       "       [0.25096524],\n",
       "       [0.3088803 ],\n",
       "       [0.38223937],\n",
       "       [0.36486486],\n",
       "       [0.2992278 ],\n",
       "       [0.24131274],\n",
       "       [0.1911197 ],\n",
       "       [0.24131274],\n",
       "       [0.26640925],\n",
       "       [0.24903473],\n",
       "       [0.31467178],\n",
       "       [0.3185328 ],\n",
       "       [0.32046333],\n",
       "       [0.4073359 ],\n",
       "       [0.5019305 ],\n",
       "       [0.46911195],\n",
       "       [0.40154442],\n",
       "       [0.32818535],\n",
       "       [0.25675675],\n",
       "       [0.3359073 ],\n",
       "       [0.34749034],\n",
       "       [0.33397684],\n",
       "       [0.41119692],\n",
       "       [0.4034749 ],\n",
       "       [0.4131274 ],\n",
       "       [0.52123547],\n",
       "       [0.5965251 ],\n",
       "       [0.58108103],\n",
       "       [0.484556  ],\n",
       "       [0.3899614 ],\n",
       "       [0.3223938 ],\n",
       "       [0.3899614 ]], dtype=float32)"
      ]
     },
     "execution_count": 53,
     "metadata": {},
     "output_type": "execute_result"
    }
   ],
   "source": [
    "Y_train"
   ]
  },
  {
   "cell_type": "code",
   "execution_count": 43,
   "metadata": {},
   "outputs": [],
   "source": [
    "from tensorflow.python.keras.models import Sequential\n",
    "from tensorflow.python.keras.layers import Dense\n",
    "from tensorflow.python.keras.optimizers import SGD\n",
    "from tensorflow.python import keras"
   ]
  },
  {
   "cell_type": "code",
   "execution_count": 44,
   "metadata": {},
   "outputs": [],
   "source": [
    "tf.reset_default_graph()\n",
    "keras.backend.clear_session()"
   ]
  },
  {
   "cell_type": "code",
   "execution_count": 45,
   "metadata": {},
   "outputs": [],
   "source": [
    "num_layers = 2\n",
    "num_neurons = [8,8]\n",
    "n_epochs = 50\n",
    "batch_size = 2"
   ]
  },
  {
   "cell_type": "code",
   "execution_count": 46,
   "metadata": {},
   "outputs": [
    {
     "name": "stdout",
     "output_type": "stream",
     "text": [
      "_________________________________________________________________\n",
      "Layer (type)                 Output Shape              Param #   \n",
      "=================================================================\n",
      "dense_1 (Dense)              (None, 8)                 24        \n",
      "_________________________________________________________________\n",
      "dense_2 (Dense)              (None, 8)                 72        \n",
      "_________________________________________________________________\n",
      "dense_3 (Dense)              (None, 1)                 9         \n",
      "=================================================================\n",
      "Total params: 105\n",
      "Trainable params: 105\n",
      "Non-trainable params: 0\n",
      "_________________________________________________________________\n"
     ]
    }
   ],
   "source": [
    "model = Sequential()\n",
    "# Dense(number of neurons, activation, shape of input to layers)\n",
    "model.add(Dense(num_neurons[0],activation='relu',input_shape=(n_x,)))\n",
    "# shape is not needed after first layer\n",
    "model.add(Dense(num_neurons[1],activation='relu'))\n",
    "model.add(Dense(units=1))\n",
    "model.summary()"
   ]
  },
  {
   "cell_type": "code",
   "execution_count": 47,
   "metadata": {
    "scrolled": true
   },
   "outputs": [
    {
     "data": {
      "text/plain": [
       "array([[0.01544401, 0.02702703],\n",
       "       [0.02702703, 0.05405405],\n",
       "       [0.05405405, 0.04826255],\n",
       "       [0.04826255, 0.03281853],\n",
       "       [0.03281853, 0.05984557],\n",
       "       [0.05984557, 0.08494207],\n",
       "       [0.08494207, 0.08494207],\n",
       "       [0.08494207, 0.06177607],\n",
       "       [0.06177607, 0.02895753],\n",
       "       [0.02895753, 0.        ],\n",
       "       [0.        , 0.02702703],\n",
       "       [0.02702703, 0.02123553],\n",
       "       [0.02123553, 0.04247104],\n",
       "       [0.04247104, 0.07142857],\n",
       "       [0.07142857, 0.05984557],\n",
       "       [0.05984557, 0.04054055],\n",
       "       [0.04054055, 0.08687258],\n",
       "       [0.08687258, 0.12741312],\n",
       "       [0.12741312, 0.12741312],\n",
       "       [0.12741312, 0.10424709],\n",
       "       [0.10424709, 0.05598456],\n",
       "       [0.05598456, 0.01930502],\n",
       "       [0.01930502, 0.06949806],\n",
       "       [0.06949806, 0.07915059],\n",
       "       [0.07915059, 0.08880308],\n",
       "       [0.08880308, 0.14285713],\n",
       "       [0.14285713, 0.11389962],\n",
       "       [0.11389962, 0.13127413],\n",
       "       [0.13127413, 0.14285713],\n",
       "       [0.14285713, 0.18339768],\n",
       "       [0.18339768, 0.18339768],\n",
       "       [0.18339768, 0.15444016],\n",
       "       [0.15444016, 0.11196911],\n",
       "       [0.11196911, 0.08108109],\n",
       "       [0.08108109, 0.1196911 ],\n",
       "       [0.1196911 , 0.12934363],\n",
       "       [0.12934363, 0.14671814],\n",
       "       [0.14671814, 0.17181468],\n",
       "       [0.17181468, 0.14864865],\n",
       "       [0.14864865, 0.15250966],\n",
       "       [0.15250966, 0.22007722],\n",
       "       [0.22007722, 0.24324325],\n",
       "       [0.24324325, 0.26640925],\n",
       "       [0.26640925, 0.2027027 ],\n",
       "       [0.2027027 , 0.16795367],\n",
       "       [0.16795367, 0.13127413],\n",
       "       [0.13127413, 0.17374519],\n",
       "       [0.17374519, 0.17760617],\n",
       "       [0.17760617, 0.17760617],\n",
       "       [0.17760617, 0.25482625],\n",
       "       [0.25482625, 0.25289574],\n",
       "       [0.25289574, 0.24131274],\n",
       "       [0.24131274, 0.26833975],\n",
       "       [0.26833975, 0.3088803 ],\n",
       "       [0.3088803 , 0.32432434],\n",
       "       [0.32432434, 0.25675675],\n",
       "       [0.25675675, 0.20656371],\n",
       "       [0.20656371, 0.14671814],\n",
       "       [0.14671814, 0.18725869],\n",
       "       [0.18725869, 0.19305018],\n",
       "       [0.19305018, 0.16216215],\n",
       "       [0.16216215, 0.25289574],\n",
       "       [0.25289574, 0.23745173],\n",
       "       [0.23745173, 0.25096524],\n",
       "       [0.25096524, 0.3088803 ],\n",
       "       [0.3088803 , 0.38223937],\n",
       "       [0.38223937, 0.36486486],\n",
       "       [0.36486486, 0.2992278 ],\n",
       "       [0.2992278 , 0.24131274],\n",
       "       [0.24131274, 0.1911197 ],\n",
       "       [0.1911197 , 0.24131274],\n",
       "       [0.24131274, 0.26640925],\n",
       "       [0.26640925, 0.24903473],\n",
       "       [0.24903473, 0.31467178],\n",
       "       [0.31467178, 0.3185328 ],\n",
       "       [0.3185328 , 0.32046333],\n",
       "       [0.32046333, 0.4073359 ],\n",
       "       [0.4073359 , 0.5019305 ],\n",
       "       [0.5019305 , 0.46911195],\n",
       "       [0.46911195, 0.40154442],\n",
       "       [0.40154442, 0.32818535],\n",
       "       [0.32818535, 0.25675675],\n",
       "       [0.25675675, 0.3359073 ],\n",
       "       [0.3359073 , 0.34749034],\n",
       "       [0.34749034, 0.33397684],\n",
       "       [0.33397684, 0.41119692],\n",
       "       [0.41119692, 0.4034749 ],\n",
       "       [0.4034749 , 0.4131274 ],\n",
       "       [0.4131274 , 0.52123547],\n",
       "       [0.52123547, 0.5965251 ],\n",
       "       [0.5965251 , 0.58108103],\n",
       "       [0.58108103, 0.484556  ],\n",
       "       [0.484556  , 0.3899614 ],\n",
       "       [0.3899614 , 0.3223938 ]], dtype=float32)"
      ]
     },
     "execution_count": 47,
     "metadata": {},
     "output_type": "execute_result"
    }
   ],
   "source": [
    "X_train"
   ]
  },
  {
   "cell_type": "code",
   "execution_count": null,
   "metadata": {},
   "outputs": [],
   "source": []
  },
  {
   "cell_type": "code",
   "execution_count": 48,
   "metadata": {},
   "outputs": [],
   "source": [
    "# compile( loss , optimizer)\n",
    "model.compile(loss='mse',optimizer='adam',metrics=['accuracy'])"
   ]
  },
  {
   "cell_type": "code",
   "execution_count": 49,
   "metadata": {
    "scrolled": true
   },
   "outputs": [
    {
     "data": {
      "text/plain": [
       "array([[0.01544401, 0.02702703],\n",
       "       [0.02702703, 0.05405405],\n",
       "       [0.05405405, 0.04826255],\n",
       "       [0.04826255, 0.03281853],\n",
       "       [0.03281853, 0.05984557],\n",
       "       [0.05984557, 0.08494207],\n",
       "       [0.08494207, 0.08494207],\n",
       "       [0.08494207, 0.06177607],\n",
       "       [0.06177607, 0.02895753],\n",
       "       [0.02895753, 0.        ],\n",
       "       [0.        , 0.02702703],\n",
       "       [0.02702703, 0.02123553],\n",
       "       [0.02123553, 0.04247104],\n",
       "       [0.04247104, 0.07142857],\n",
       "       [0.07142857, 0.05984557],\n",
       "       [0.05984557, 0.04054055],\n",
       "       [0.04054055, 0.08687258],\n",
       "       [0.08687258, 0.12741312],\n",
       "       [0.12741312, 0.12741312],\n",
       "       [0.12741312, 0.10424709],\n",
       "       [0.10424709, 0.05598456],\n",
       "       [0.05598456, 0.01930502],\n",
       "       [0.01930502, 0.06949806],\n",
       "       [0.06949806, 0.07915059],\n",
       "       [0.07915059, 0.08880308],\n",
       "       [0.08880308, 0.14285713],\n",
       "       [0.14285713, 0.11389962],\n",
       "       [0.11389962, 0.13127413],\n",
       "       [0.13127413, 0.14285713],\n",
       "       [0.14285713, 0.18339768],\n",
       "       [0.18339768, 0.18339768],\n",
       "       [0.18339768, 0.15444016],\n",
       "       [0.15444016, 0.11196911],\n",
       "       [0.11196911, 0.08108109],\n",
       "       [0.08108109, 0.1196911 ],\n",
       "       [0.1196911 , 0.12934363],\n",
       "       [0.12934363, 0.14671814],\n",
       "       [0.14671814, 0.17181468],\n",
       "       [0.17181468, 0.14864865],\n",
       "       [0.14864865, 0.15250966],\n",
       "       [0.15250966, 0.22007722],\n",
       "       [0.22007722, 0.24324325],\n",
       "       [0.24324325, 0.26640925],\n",
       "       [0.26640925, 0.2027027 ],\n",
       "       [0.2027027 , 0.16795367],\n",
       "       [0.16795367, 0.13127413],\n",
       "       [0.13127413, 0.17374519],\n",
       "       [0.17374519, 0.17760617],\n",
       "       [0.17760617, 0.17760617],\n",
       "       [0.17760617, 0.25482625],\n",
       "       [0.25482625, 0.25289574],\n",
       "       [0.25289574, 0.24131274],\n",
       "       [0.24131274, 0.26833975],\n",
       "       [0.26833975, 0.3088803 ],\n",
       "       [0.3088803 , 0.32432434],\n",
       "       [0.32432434, 0.25675675],\n",
       "       [0.25675675, 0.20656371],\n",
       "       [0.20656371, 0.14671814],\n",
       "       [0.14671814, 0.18725869],\n",
       "       [0.18725869, 0.19305018],\n",
       "       [0.19305018, 0.16216215],\n",
       "       [0.16216215, 0.25289574],\n",
       "       [0.25289574, 0.23745173],\n",
       "       [0.23745173, 0.25096524],\n",
       "       [0.25096524, 0.3088803 ],\n",
       "       [0.3088803 , 0.38223937],\n",
       "       [0.38223937, 0.36486486],\n",
       "       [0.36486486, 0.2992278 ],\n",
       "       [0.2992278 , 0.24131274],\n",
       "       [0.24131274, 0.1911197 ],\n",
       "       [0.1911197 , 0.24131274],\n",
       "       [0.24131274, 0.26640925],\n",
       "       [0.26640925, 0.24903473],\n",
       "       [0.24903473, 0.31467178],\n",
       "       [0.31467178, 0.3185328 ],\n",
       "       [0.3185328 , 0.32046333],\n",
       "       [0.32046333, 0.4073359 ],\n",
       "       [0.4073359 , 0.5019305 ],\n",
       "       [0.5019305 , 0.46911195],\n",
       "       [0.46911195, 0.40154442],\n",
       "       [0.40154442, 0.32818535],\n",
       "       [0.32818535, 0.25675675],\n",
       "       [0.25675675, 0.3359073 ],\n",
       "       [0.3359073 , 0.34749034],\n",
       "       [0.34749034, 0.33397684],\n",
       "       [0.33397684, 0.41119692],\n",
       "       [0.41119692, 0.4034749 ],\n",
       "       [0.4034749 , 0.4131274 ],\n",
       "       [0.4131274 , 0.52123547],\n",
       "       [0.52123547, 0.5965251 ],\n",
       "       [0.5965251 , 0.58108103],\n",
       "       [0.58108103, 0.484556  ],\n",
       "       [0.484556  , 0.3899614 ],\n",
       "       [0.3899614 , 0.3223938 ]], dtype=float32)"
      ]
     },
     "execution_count": 49,
     "metadata": {},
     "output_type": "execute_result"
    }
   ],
   "source": [
    "X_train"
   ]
  },
  {
   "cell_type": "code",
   "execution_count": 50,
   "metadata": {
    "scrolled": true
   },
   "outputs": [
    {
     "name": "stdout",
     "output_type": "stream",
     "text": [
      "Epoch 1/50\n",
      "94/94 [==============================]94/94 [==============================] - 1s 11ms/step - loss: 0.0100 - acc: 0.0106\n",
      "\n",
      "Epoch 2/50\n",
      "94/94 [==============================]94/94 [==============================] - 0s 4ms/step - loss: 0.0031 - acc: 0.0106\n",
      "\n",
      "Epoch 3/50\n",
      "94/94 [==============================]94/94 [==============================] - 0s 4ms/step - loss: 0.0025 - acc: 0.0106\n",
      "\n",
      "Epoch 4/50\n",
      "94/94 [==============================]94/94 [==============================] - 0s 4ms/step - loss: 0.0023 - acc: 0.0106\n",
      "\n",
      "Epoch 5/50\n",
      "94/94 [==============================]94/94 [==============================] - 0s 4ms/step - loss: 0.0021 - acc: 0.0106\n",
      "\n",
      "Epoch 6/50\n",
      "94/94 [==============================]94/94 [==============================] - 1s 6ms/step - loss: 0.0021 - acc: 0.0106\n",
      "\n",
      "Epoch 7/50\n",
      "94/94 [==============================]94/94 [==============================] - 1s 6ms/step - loss: 0.0021 - acc: 0.0106\n",
      "\n",
      "Epoch 8/50\n",
      "94/94 [==============================]94/94 [==============================] - 0s 5ms/step - loss: 0.0021 - acc: 0.0106\n",
      "\n",
      "Epoch 9/50\n",
      "94/94 [==============================]94/94 [==============================] - 0s 4ms/step - loss: 0.0020 - acc: 0.0106\n",
      "\n",
      "Epoch 10/50\n",
      "94/94 [==============================]94/94 [==============================] - 1s 9ms/step - loss: 0.0021 - acc: 0.0106- ETA: 0s - loss: 0.0024 - acc: 0.00\n",
      "\n",
      "Epoch 11/50\n",
      "94/94 [==============================]94/94 [==============================] - 1s 7ms/step - loss: 0.0021 - acc: 0.0106\n",
      "\n",
      "Epoch 12/50\n",
      "94/94 [==============================]94/94 [==============================] - 1s 9ms/step - loss: 0.0020 - acc: 0.0106\n",
      "\n",
      "Epoch 13/50\n",
      "94/94 [==============================]94/94 [==============================] - 1s 7ms/step - loss: 0.0022 - acc: 0.0106\n",
      "\n",
      "Epoch 14/50\n",
      "94/94 [==============================]94/94 [==============================] - 1s 6ms/step - loss: 0.0019 - acc: 0.0106\n",
      "\n",
      "Epoch 15/50\n",
      "94/94 [==============================]94/94 [==============================] - 1s 7ms/step - loss: 0.0020 - acc: 0.0106- ETA: 0s - loss: 0.0020 - acc: 0.0109   \n",
      "\n",
      "Epoch 16/50\n",
      "94/94 [==============================]94/94 [==============================] - 1s 6ms/step - loss: 0.0020 - acc: 0.0106\n",
      "\n",
      "Epoch 17/50\n",
      "94/94 [==============================]94/94 [==============================] - 1s 6ms/step - loss: 0.0021 - acc: 0.0106\n",
      "\n",
      "Epoch 18/50\n",
      "94/94 [==============================]94/94 [==============================] - 1s 7ms/step - loss: 0.0019 - acc: 0.0106\n",
      "\n",
      "Epoch 19/50\n",
      "94/94 [==============================]94/94 [==============================] - 1s 10ms/step - loss: 0.0019 - acc: 0.0106\n",
      "\n",
      "Epoch 20/50\n",
      "94/94 [==============================]94/94 [==============================] - 1s 6ms/step - loss: 0.0019 - acc: 0.0106\n",
      "\n",
      "Epoch 21/50\n",
      "94/94 [==============================]94/94 [==============================] - 1s 7ms/step - loss: 0.0019 - acc: 0.0106\n",
      "\n",
      "Epoch 22/50\n",
      "94/94 [==============================]94/94 [==============================] - 0s 5ms/step - loss: 0.0020 - acc: 0.0106\n",
      "\n",
      "Epoch 23/50\n",
      "94/94 [==============================]94/94 [==============================] - 1s 7ms/step - loss: 0.0019 - acc: 0.0106\n",
      "\n",
      "Epoch 24/50\n",
      "94/94 [==============================]94/94 [==============================] - 1s 6ms/step - loss: 0.0021 - acc: 0.0106\n",
      "\n",
      "Epoch 25/50\n",
      "94/94 [==============================]94/94 [==============================] - 1s 7ms/step - loss: 0.0019 - acc: 0.0106\n",
      "\n",
      "Epoch 26/50\n",
      "94/94 [==============================]94/94 [==============================] - 1s 7ms/step - loss: 0.0018 - acc: 0.0106\n",
      "\n",
      "Epoch 27/50\n",
      "94/94 [==============================]94/94 [==============================] - 1s 7ms/step - loss: 0.0019 - acc: 0.0106\n",
      "\n",
      "Epoch 28/50\n",
      "94/94 [==============================]94/94 [==============================] - 1s 6ms/step - loss: 0.0018 - acc: 0.0106\n",
      "\n",
      "Epoch 29/50\n",
      "94/94 [==============================]94/94 [==============================] - 1s 9ms/step - loss: 0.0019 - acc: 0.0106\n",
      "\n",
      "Epoch 30/50\n",
      "94/94 [==============================]94/94 [==============================] - 0s 5ms/step - loss: 0.0019 - acc: 0.0106\n",
      "\n",
      "Epoch 31/50\n",
      "94/94 [==============================]94/94 [==============================] - 1s 7ms/step - loss: 0.0019 - acc: 0.0106\n",
      "\n",
      "Epoch 32/50\n",
      "94/94 [==============================]94/94 [==============================] - 0s 5ms/step - loss: 0.0018 - acc: 0.0106\n",
      "\n",
      "Epoch 33/50\n",
      "94/94 [==============================]94/94 [==============================] - 1s 6ms/step - loss: 0.0019 - acc: 0.0106\n",
      "\n",
      "Epoch 34/50\n",
      "94/94 [==============================]94/94 [==============================] - 0s 5ms/step - loss: 0.0020 - acc: 0.0106\n",
      "\n",
      "Epoch 35/50\n",
      "94/94 [==============================]94/94 [==============================] - 1s 6ms/step - loss: 0.0018 - acc: 0.0106\n",
      "\n",
      "Epoch 36/50\n",
      "94/94 [==============================]94/94 [==============================] - 1s 7ms/step - loss: 0.0019 - acc: 0.0106\n",
      "\n",
      "Epoch 37/50\n",
      "94/94 [==============================]94/94 [==============================] - 1s 7ms/step - loss: 0.0019 - acc: 0.0106\n",
      "\n",
      "Epoch 38/50\n",
      "94/94 [==============================]94/94 [==============================] - 1s 8ms/step - loss: 0.0019 - acc: 0.0106\n",
      "\n",
      "Epoch 39/50\n",
      "94/94 [==============================]94/94 [==============================] - 0s 5ms/step - loss: 0.0018 - acc: 0.0106\n",
      "\n",
      "Epoch 40/50\n",
      "94/94 [==============================]94/94 [==============================] - 0s 4ms/step - loss: 0.0017 - acc: 0.0106\n",
      "\n",
      "Epoch 41/50\n",
      "94/94 [==============================]94/94 [==============================] - 1s 5ms/step - loss: 0.0017 - acc: 0.0106\n",
      "\n",
      "Epoch 42/50\n",
      "94/94 [==============================]94/94 [==============================] - 1s 7ms/step - loss: 0.0018 - acc: 0.0106\n",
      "\n",
      "Epoch 43/50\n",
      "94/94 [==============================]94/94 [==============================] - 1s 6ms/step - loss: 0.0018 - acc: 0.0106\n",
      "\n",
      "Epoch 44/50\n",
      "94/94 [==============================]94/94 [==============================] - 1s 7ms/step - loss: 0.0019 - acc: 0.0106\n",
      "\n",
      "Epoch 45/50\n",
      "94/94 [==============================]94/94 [==============================] - 0s 4ms/step - loss: 0.0018 - acc: 0.0106\n",
      "\n",
      "Epoch 46/50\n",
      "94/94 [==============================]94/94 [==============================] - 0s 5ms/step - loss: 0.0018 - acc: 0.0106\n",
      "\n",
      "Epoch 47/50\n",
      "94/94 [==============================]94/94 [==============================] - 0s 5ms/step - loss: 0.0018 - acc: 0.0106\n",
      "\n",
      "Epoch 48/50\n",
      "94/94 [==============================]94/94 [==============================] - 0s 4ms/step - loss: 0.0018 - acc: 0.0106\n",
      "\n",
      "Epoch 49/50\n",
      "94/94 [==============================]94/94 [==============================] - 1s 6ms/step - loss: 0.0018 - acc: 0.0106\n",
      "\n",
      "Epoch 50/50\n",
      "94/94 [==============================]94/94 [==============================] - 0s 4ms/step - loss: 0.0019 - acc: 0.0106\n",
      "\n"
     ]
    }
   ],
   "source": [
    "# fit (input, output, batch_size, batch_number)\n",
    "history = model.fit(X_train,Y_train,batch_size=batch_size,epochs=n_epochs)"
   ]
  },
  {
   "cell_type": "code",
   "execution_count": 51,
   "metadata": {},
   "outputs": [],
   "source": [
    "import numpy as np"
   ]
  },
  {
   "cell_type": "code",
   "execution_count": 54,
   "metadata": {},
   "outputs": [
    {
     "name": "stdout",
     "output_type": "stream",
     "text": [
      "46/46 [==============================]46/46 [==============================] - 0s 2ms/step\n",
      "\n",
      "\n",
      "Test mse: [0.01153335412559302, 0.02173913140659747]\n"
     ]
    }
   ],
   "source": [
    "score = model.evaluate(X_test, Y_test,verbose=1)\n",
    "print('\\nTest mse:', score)"
   ]
  },
  {
   "cell_type": "code",
   "execution_count": 23,
   "metadata": {},
   "outputs": [
    {
     "name": "stdout",
     "output_type": "stream",
     "text": [
      "46/46 [==============================]46/46 [==============================] - 0s 357us/step\n",
      "\n"
     ]
    },
    {
     "data": {
      "text/plain": [
       "[0.00011391338794846493, 1.0]"
      ]
     },
     "execution_count": 23,
     "metadata": {},
     "output_type": "execute_result"
    }
   ],
   "source": [
    "model.evaluate(X_test, Y_test)"
   ]
  },
  {
   "cell_type": "code",
   "execution_count": 31,
   "metadata": {},
   "outputs": [
    {
     "data": {
      "text/plain": [
       "array([[0.01544401],\n",
       "       [0.02702703],\n",
       "       [0.05405405],\n",
       "       [0.04826255],\n",
       "       [0.03281853],\n",
       "       [0.05984557],\n",
       "       [0.08494207],\n",
       "       [0.08494207],\n",
       "       [0.06177607],\n",
       "       [0.02895753],\n",
       "       [0.        ],\n",
       "       [0.02702703],\n",
       "       [0.02123553],\n",
       "       [0.04247104],\n",
       "       [0.07142857],\n",
       "       [0.05984557],\n",
       "       [0.04054055],\n",
       "       [0.08687258],\n",
       "       [0.12741312],\n",
       "       [0.12741312],\n",
       "       [0.10424709],\n",
       "       [0.05598456],\n",
       "       [0.01930502],\n",
       "       [0.06949806],\n",
       "       [0.07915059],\n",
       "       [0.08880308],\n",
       "       [0.14285713],\n",
       "       [0.11389962],\n",
       "       [0.13127413],\n",
       "       [0.14285713],\n",
       "       [0.18339768],\n",
       "       [0.18339768],\n",
       "       [0.15444016],\n",
       "       [0.11196911],\n",
       "       [0.08108109],\n",
       "       [0.1196911 ],\n",
       "       [0.12934363],\n",
       "       [0.14671814],\n",
       "       [0.17181468],\n",
       "       [0.14864865],\n",
       "       [0.15250966],\n",
       "       [0.22007722],\n",
       "       [0.24324325],\n",
       "       [0.26640925],\n",
       "       [0.2027027 ],\n",
       "       [0.16795367],\n",
       "       [0.13127413],\n",
       "       [0.17374519],\n",
       "       [0.17760617],\n",
       "       [0.17760617],\n",
       "       [0.25482625],\n",
       "       [0.25289574],\n",
       "       [0.24131274],\n",
       "       [0.26833975],\n",
       "       [0.3088803 ],\n",
       "       [0.32432434],\n",
       "       [0.25675675],\n",
       "       [0.20656371],\n",
       "       [0.14671814],\n",
       "       [0.18725869],\n",
       "       [0.19305018],\n",
       "       [0.16216215],\n",
       "       [0.25289574],\n",
       "       [0.23745173],\n",
       "       [0.25096524],\n",
       "       [0.3088803 ],\n",
       "       [0.38223937],\n",
       "       [0.36486486],\n",
       "       [0.2992278 ],\n",
       "       [0.24131274],\n",
       "       [0.1911197 ],\n",
       "       [0.24131274],\n",
       "       [0.26640925],\n",
       "       [0.24903473],\n",
       "       [0.31467178],\n",
       "       [0.3185328 ],\n",
       "       [0.32046333],\n",
       "       [0.4073359 ],\n",
       "       [0.5019305 ],\n",
       "       [0.46911195],\n",
       "       [0.40154442],\n",
       "       [0.32818535],\n",
       "       [0.25675675],\n",
       "       [0.3359073 ],\n",
       "       [0.34749034],\n",
       "       [0.33397684],\n",
       "       [0.41119692],\n",
       "       [0.4034749 ],\n",
       "       [0.4131274 ],\n",
       "       [0.52123547],\n",
       "       [0.5965251 ],\n",
       "       [0.58108103],\n",
       "       [0.484556  ],\n",
       "       [0.3899614 ],\n",
       "       [0.3223938 ],\n",
       "       [0.3899614 ],\n",
       "       [0.4073359 ],\n",
       "       [0.3803089 ],\n",
       "       [0.48648646],\n",
       "       [0.47104248],\n",
       "       [0.484556  ],\n",
       "       [0.6138996 ],\n",
       "       [0.6969112 ],\n",
       "       [0.70077217],\n",
       "       [0.57915056],\n",
       "       [0.46911195],\n",
       "       [0.38803086],\n",
       "       [0.44787642],\n",
       "       [0.45559844],\n",
       "       [0.4131274 ],\n",
       "       [0.4980695 ],\n",
       "       [0.47104248],\n",
       "       [0.49999997],\n",
       "       [0.6389961 ],\n",
       "       [0.7471043 ],\n",
       "       [0.7741313 ],\n",
       "       [0.57915056],\n",
       "       [0.492278  ],\n",
       "       [0.3976834 ],\n",
       "       [0.44980696],\n",
       "       [0.49420848],\n",
       "       [0.45945945],\n",
       "       [0.5830116 ],\n",
       "       [0.5637065 ],\n",
       "       [0.61003864],\n",
       "       [0.71042466],\n",
       "       [0.8571429 ],\n",
       "       [0.8783784 ],\n",
       "       [0.69305015],\n",
       "       [0.5849421 ],\n",
       "       [0.4980695 ],\n",
       "       [0.58108103],\n",
       "       [0.6042471 ],\n",
       "       [0.554054  ],\n",
       "       [0.60810804],\n",
       "       [0.6891892 ],\n",
       "       [0.71042466],\n",
       "       [0.8320464 ],\n",
       "       [1.        ],\n",
       "       [0.96911204],\n",
       "       [0.7799227 ],\n",
       "       [0.6891892 ],\n",
       "       [0.55212355],\n",
       "       [0.6332046 ]], dtype=float32)"
      ]
     },
     "execution_count": 31,
     "metadata": {},
     "output_type": "execute_result"
    }
   ],
   "source": [
    "normalized_dataset"
   ]
  },
  {
   "cell_type": "code",
   "execution_count": 55,
   "metadata": {},
   "outputs": [
    {
     "data": {
      "text/plain": [
       "array([[0.05405405],\n",
       "       [0.04826255],\n",
       "       [0.03281853],\n",
       "       [0.05984557],\n",
       "       [0.08494207],\n",
       "       [0.08494207],\n",
       "       [0.06177607],\n",
       "       [0.02895753],\n",
       "       [0.        ],\n",
       "       [0.02702703],\n",
       "       [0.02123553],\n",
       "       [0.04247104],\n",
       "       [0.07142857],\n",
       "       [0.05984557],\n",
       "       [0.04054055],\n",
       "       [0.08687258],\n",
       "       [0.12741312],\n",
       "       [0.12741312],\n",
       "       [0.10424709],\n",
       "       [0.05598456],\n",
       "       [0.01930502],\n",
       "       [0.06949806],\n",
       "       [0.07915059],\n",
       "       [0.08880308],\n",
       "       [0.14285713],\n",
       "       [0.11389962],\n",
       "       [0.13127413],\n",
       "       [0.14285713],\n",
       "       [0.18339768],\n",
       "       [0.18339768],\n",
       "       [0.15444016],\n",
       "       [0.11196911],\n",
       "       [0.08108109],\n",
       "       [0.1196911 ],\n",
       "       [0.12934363],\n",
       "       [0.14671814],\n",
       "       [0.17181468],\n",
       "       [0.14864865],\n",
       "       [0.15250966],\n",
       "       [0.22007722],\n",
       "       [0.24324325],\n",
       "       [0.26640925],\n",
       "       [0.2027027 ],\n",
       "       [0.16795367],\n",
       "       [0.13127413],\n",
       "       [0.17374519],\n",
       "       [0.17760617],\n",
       "       [0.17760617],\n",
       "       [0.25482625],\n",
       "       [0.25289574],\n",
       "       [0.24131274],\n",
       "       [0.26833975],\n",
       "       [0.3088803 ],\n",
       "       [0.32432434],\n",
       "       [0.25675675],\n",
       "       [0.20656371],\n",
       "       [0.14671814],\n",
       "       [0.18725869],\n",
       "       [0.19305018],\n",
       "       [0.16216215],\n",
       "       [0.25289574],\n",
       "       [0.23745173],\n",
       "       [0.25096524],\n",
       "       [0.3088803 ],\n",
       "       [0.38223937],\n",
       "       [0.36486486],\n",
       "       [0.2992278 ],\n",
       "       [0.24131274],\n",
       "       [0.1911197 ],\n",
       "       [0.24131274],\n",
       "       [0.26640925],\n",
       "       [0.24903473],\n",
       "       [0.31467178],\n",
       "       [0.3185328 ],\n",
       "       [0.32046333],\n",
       "       [0.4073359 ],\n",
       "       [0.5019305 ],\n",
       "       [0.46911195],\n",
       "       [0.40154442],\n",
       "       [0.32818535],\n",
       "       [0.25675675],\n",
       "       [0.3359073 ],\n",
       "       [0.34749034],\n",
       "       [0.33397684],\n",
       "       [0.41119692],\n",
       "       [0.4034749 ],\n",
       "       [0.4131274 ],\n",
       "       [0.52123547],\n",
       "       [0.5965251 ],\n",
       "       [0.58108103],\n",
       "       [0.484556  ],\n",
       "       [0.3899614 ],\n",
       "       [0.3223938 ],\n",
       "       [0.3899614 ]], dtype=float32)"
      ]
     },
     "execution_count": 55,
     "metadata": {},
     "output_type": "execute_result"
    }
   ],
   "source": [
    "Y_train"
   ]
  },
  {
   "cell_type": "code",
   "execution_count": 56,
   "metadata": {},
   "outputs": [
    {
     "data": {
      "text/plain": [
       "((46, 1), (46, 2))"
      ]
     },
     "execution_count": 56,
     "metadata": {},
     "output_type": "execute_result"
    }
   ],
   "source": [
    "Y_test.shape, X_test.shape"
   ]
  },
  {
   "cell_type": "code",
   "execution_count": 57,
   "metadata": {},
   "outputs": [],
   "source": [
    "import matplotlib.pyplot as plt"
   ]
  },
  {
   "cell_type": "code",
   "execution_count": 58,
   "metadata": {},
   "outputs": [
    {
     "data": {
      "text/plain": [
       "(97, 143)"
      ]
     },
     "execution_count": 58,
     "metadata": {},
     "output_type": "execute_result"
    }
   ],
   "source": [
    "len(Y_train_pred)+(n_x*2)-1,len(normalized_dataset)-1"
   ]
  },
  {
   "cell_type": "code",
   "execution_count": 59,
   "metadata": {},
   "outputs": [
    {
     "data": {
      "image/png": "[encoded data removed]",
      "text/plain": [
       "<Figure size 432x288 with 1 Axes>"
      ]
     },
     "metadata": {},
     "output_type": "display_data"
    }
   ],
   "source": [
    "# make predictions\n",
    "Y_train_pred = model.predict(X_train)\n",
    "Y_test_pred = model.predict(X_test)\n",
    "\n",
    "# shift train predictions for plotting\n",
    "Y_train_pred_plot = np.empty_like(normalized_dataset)\n",
    "Y_train_pred_plot[:, :] = np.nan\n",
    "Y_train_pred_plot[n_x-1:len(Y_train_pred)+n_x-1, :] = Y_train_pred\n",
    "\n",
    "# shift test predictions for plotting\n",
    "Y_test_pred_plot = np.empty_like(normalized_dataset)\n",
    "Y_test_pred_plot[:, :] = np.nan\n",
    "Y_test_pred_plot[len(Y_train_pred)+(n_x*2)-1:len(normalized_dataset)-1, :] = Y_test_pred\n",
    "\n",
    "# plot baseline and predictions\n",
    "plt.plot(normalized_dataset,label='Original Data')\n",
    "plt.plot(Y_train_pred_plot,label='Y_train_pred')\n",
    "plt.plot(Y_test_pred_plot,label='Y_test_pred')\n",
    "plt.legend()\n",
    "plt.show()"
   ]
  },
  {
   "cell_type": "code",
   "execution_count": 172,
   "metadata": {},
   "outputs": [
    {
     "data": {
      "text/plain": [
       "array([[356.],\n",
       "       [348.],\n",
       "       [355.],\n",
       "       [422.],\n",
       "       [465.],\n",
       "       [467.],\n",
       "       [404.],\n",
       "       [347.],\n",
       "       [305.],\n",
       "       [336.],\n",
       "       [340.],\n",
       "       [318.],\n",
       "       [362.],\n",
       "       [348.],\n",
       "       [363.],\n",
       "       [435.],\n",
       "       [491.],\n",
       "       [505.],\n",
       "       [404.],\n",
       "       [359.],\n",
       "       [310.],\n",
       "       [337.],\n",
       "       [360.],\n",
       "       [342.],\n",
       "       [406.],\n",
       "       [396.],\n",
       "       [420.],\n",
       "       [472.],\n",
       "       [548.],\n",
       "       [559.],\n",
       "       [463.],\n",
       "       [407.],\n",
       "       [362.],\n",
       "       [405.],\n",
       "       [417.],\n",
       "       [391.],\n",
       "       [419.],\n",
       "       [461.],\n",
       "       [472.],\n",
       "       [535.],\n",
       "       [622.],\n",
       "       [606.],\n",
       "       [508.],\n",
       "       [461.],\n",
       "       [390.],\n",
       "       [432.]], dtype=float32)"
      ]
     },
     "execution_count": 172,
     "metadata": {},
     "output_type": "execute_result"
    }
   ],
   "source": [
    "Y_test"
   ]
  },
  {
   "cell_type": "code",
   "execution_count": 167,
   "metadata": {},
   "outputs": [
    {
     "data": {
      "text/plain": [
       "((46, 1), (94, 1), (144, 1))"
      ]
     },
     "execution_count": 167,
     "metadata": {},
     "output_type": "execute_result"
    }
   ],
   "source": [
    "Y_test_pred.shape, Y_train_pred.shape, dataset.shape"
   ]
  },
  {
   "cell_type": "code",
   "execution_count": null,
   "metadata": {},
   "outputs": [],
   "source": []
  },
  {
   "cell_type": "code",
   "execution_count": 168,
   "metadata": {},
   "outputs": [
    {
     "data": {
      "text/plain": [
       "array([315., 301.], dtype=float32)"
      ]
     },
     "execution_count": 168,
     "metadata": {},
     "output_type": "execute_result"
    }
   ],
   "source": [
    "np.reshape(X_test[0],(2,))"
   ]
  },
  {
   "cell_type": "code",
   "execution_count": 169,
   "metadata": {},
   "outputs": [
    {
     "data": {
      "text/plain": [
       "array([[470.1346]], dtype=float32)"
      ]
     },
     "execution_count": 169,
     "metadata": {},
     "output_type": "execute_result"
    }
   ],
   "source": [
    "model.predict(np.reshape(X_test[5],(-1,2)))"
   ]
  },
  {
   "cell_type": "code",
   "execution_count": null,
   "metadata": {},
   "outputs": [],
   "source": []
  }
 ],
 "metadata": {
  "kernelspec": {
   "display_name": "Python [conda env:py36]",
   "language": "python",
   "name": "conda-env-py36-py"
  },
  "language_info": {
   "codemirror_mode": {
    "name": "ipython",
    "version": 3
   },
   "file_extension": ".py",
   "mimetype": "text/x-python",
   "name": "python",
   "nbconvert_exporter": "python",
   "pygments_lexer": "ipython3",
   "version": "3.6.4"
  }
 },
 "nbformat": 4,
 "nbformat_minor": 2
}
