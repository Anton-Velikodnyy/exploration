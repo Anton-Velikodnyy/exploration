{
 "cells": [
  {
   "cell_type": "code",
   "execution_count": 1,
   "metadata": {},
   "outputs": [],
   "source": [
    "import tensorflow as tf\n",
    "import numpy as np"
   ]
  },
  {
   "cell_type": "code",
   "execution_count": 2,
   "metadata": {},
   "outputs": [],
   "source": [
    "# interactive like python, yay!\n",
    "# to run in one swoop use... \n",
    "# with tf.Session as sess:\n",
    "tfs = tf.InteractiveSession()"
   ]
  },
  {
   "cell_type": "code",
   "execution_count": 16,
   "metadata": {},
   "outputs": [],
   "source": [
    "hello = tf.constant(\"Hello, from tf!!\")"
   ]
  },
  {
   "cell_type": "code",
   "execution_count": 17,
   "metadata": {},
   "outputs": [
    {
     "name": "stdout",
     "output_type": "stream",
     "text": [
      "Hello, from tf!!\n"
     ]
    }
   ],
   "source": [
    "#needed decode because tf string gives a binary string\n",
    "print('{}'.format(tfs.run(hello).decode('utf-8')))"
   ]
  },
  {
   "cell_type": "code",
   "execution_count": 5,
   "metadata": {},
   "outputs": [],
   "source": [
    "#constants are just that constants, nothing new here\n",
    "c1 = tf.constant(5, name='x')\n",
    "c2 = tf.constant(6.0, name='y')\n",
    "c3 = tf.constant(7.0, tf.float32,name='z')"
   ]
  },
  {
   "cell_type": "code",
   "execution_count": 27,
   "metadata": {},
   "outputs": [
    {
     "name": "stdout",
     "output_type": "stream",
     "text": [
      "c1 (x): Tensor(\"x:0\", shape=(), dtype=int32)\n",
      "c2 (y): Tensor(\"y:0\", shape=(), dtype=float32)\n",
      "c3 (z): Tensor(\"z:0\", shape=(), dtype=float32)\n"
     ]
    }
   ],
   "source": [
    "print('c1 (x): {}'.format(c1))\n",
    "print('c2 (y): {}'.format(c2))\n",
    "print('c3 (z): {}'.format(c3))"
   ]
  },
  {
   "cell_type": "code",
   "execution_count": 28,
   "metadata": {},
   "outputs": [
    {
     "name": "stdout",
     "output_type": "stream",
     "text": [
      "run([c1,c2,c3]) : [5, 6.0, 7.0]\n"
     ]
    }
   ],
   "source": [
    "print ('run([c1,c2,c3]) : {}'.format(tfs.run([c1,c2,c3])))"
   ]
  },
  {
   "cell_type": "code",
   "execution_count": 29,
   "metadata": {},
   "outputs": [],
   "source": [
    "# operations are not performed yet\n",
    "op1 = tf.add(tf.cast(c1,dtype=tf.float32),c2)\n",
    "op2 = tf.multiply(c2,c3)"
   ]
  },
  {
   "cell_type": "code",
   "execution_count": 30,
   "metadata": {},
   "outputs": [
    {
     "name": "stdout",
     "output_type": "stream",
     "text": [
      "op1 : Tensor(\"Add_3:0\", shape=(), dtype=float32)\n",
      "op2 : Tensor(\"Mul_2:0\", shape=(), dtype=float32)\n"
     ]
    }
   ],
   "source": [
    "print('op1 : {}'.format(op1))\n",
    "print('op2 : {}'.format(op2))"
   ]
  },
  {
   "cell_type": "code",
   "execution_count": 31,
   "metadata": {},
   "outputs": [
    {
     "name": "stdout",
     "output_type": "stream",
     "text": [
      "run([op1,op2]) : [11.0, 42.0]\n"
     ]
    }
   ],
   "source": [
    "# operations are not performed untill they are run with tf.run()\n",
    "print ('run([op1,op2]) : {}'.format(tfs.run([op1,op2])))"
   ]
  },
  {
   "cell_type": "code",
   "execution_count": 38,
   "metadata": {},
   "outputs": [
    {
     "name": "stdout",
     "output_type": "stream",
     "text": [
      "p1 : Tensor(\"Placeholder_2:0\", dtype=float32)\n",
      "p2 : Tensor(\"Placeholder_3:0\", dtype=float32)\n"
     ]
    }
   ],
   "source": [
    "# placeholders do not need to be initialized at a value, but can later be set to a value at run time\n",
    "p1 = tf.placeholder(tf.float32)\n",
    "p2 = tf.placeholder(tf.float32)\n",
    "print('p1 : {}'.format(p1))\n",
    "print('p2 : {}'.format(p2))"
   ]
  },
  {
   "cell_type": "code",
   "execution_count": 39,
   "metadata": {},
   "outputs": [],
   "source": [
    "# multiply can be shorthanded with symbol, as can other operations\n",
    "op4 = p1*p2"
   ]
  },
  {
   "cell_type": "code",
   "execution_count": 58,
   "metadata": {},
   "outputs": [
    {
     "name": "stdout",
     "output_type": "stream",
     "text": [
      "run([op4,{p4:2.0, p2:3.0}]) : 6.0\n"
     ]
    }
   ],
   "source": [
    "# double '{' needed to print it as 1, otherwise format wants to used as a place for insertion\n",
    "print('run([op4,{{p4:2.0, p2:3.0}}]) : {}'.format(tfs.run(op4,{p1:2.0, p2:3.0})))"
   ]
  },
  {
   "cell_type": "code",
   "execution_count": 59,
   "metadata": {},
   "outputs": [
    {
     "name": "stdout",
     "output_type": "stream",
     "text": [
      "run(op4, feed_dict={p1:3.0, p2:4.0})) : 12.0\n"
     ]
    }
   ],
   "source": [
    "# feed_dict allows you to fill in placeholders\n",
    "print('run(op4, feed_dict={{p1:3.0, p2:4.0}})) : {}'.format(tfs.run(op4, feed_dict={p1:3.0, p2:4.0})))"
   ]
  },
  {
   "cell_type": "code",
   "execution_count": 66,
   "metadata": {},
   "outputs": [
    {
     "name": "stdout",
     "output_type": "stream",
     "text": [
      "run(op4, feed_dict={p1:[3.0,4.0,5.0], p2:[4.0,5.0,6.0]}) : [12. 20. 30.]\n"
     ]
    }
   ],
   "source": [
    "# can give multiple values for placeholder, solves them all, will complain if shape size is incompatible\n",
    "print('run(op4, feed_dict={{p1:[3.0,4.0,5.0], p2:[4.0,5.0,6.0]}}) : {}'.format(\n",
    "    tfs.run(op4, feed_dict={p1:[3.0,4.0,5.0], p2:[4.0,5.0,6.0]})))"
   ]
  },
  {
   "cell_type": "code",
   "execution_count": 69,
   "metadata": {},
   "outputs": [
    {
     "name": "stdout",
     "output_type": "stream",
     "text": [
      "tf_t : Tensor(\"Const_4:0\", shape=(), dtype=float64)\n",
      "tf_t : 5.0\n"
     ]
    }
   ],
   "source": [
    "# create and print a 0-D Tensor\n",
    "tf_t = tf.convert_to_tensor(5.0,dtype=tf.float64)\n",
    "\n",
    "print('tf_t : {}'.format(tf_t))\n",
    "print('tf_t : {}'.format(tfs.run(tf_t)))"
   ]
  },
  {
   "cell_type": "code",
   "execution_count": 78,
   "metadata": {},
   "outputs": [
    {
     "name": "stdout",
     "output_type": "stream",
     "text": [
      "a1dim.shape() = (5,)\n",
      "tf_t : Tensor(\"Const_8:0\", shape=(5,), dtype=float64)\n",
      "tf_t : [1.   2.   3.   4.   5.99]\n",
      "tf_t : 3.0\n",
      "tf_t : 5.99\n"
     ]
    }
   ],
   "source": [
    "# create and print 1-D Tensor\n",
    "a1dim = np.array([1,2,3,4,5.99])\n",
    "print('a1dim.shape() = {}'.format(a1dim.shape))\n",
    "tf_t = tf.convert_to_tensor(a1dim,dtype = tf.float64)\n",
    "print('tf_t : {}'.format(tf_t))\n",
    "print('tf_t : {}'.format(tfs.run(tf_t)))\n",
    "# element of Tensor array is (suprise!) another tensor\n",
    "print('tf_t : {}'.format(tfs.run(tf_t[2])))\n",
    "# attempting to access outside of array causes compiler error, so 4 is max index\n",
    "print('tf_t : {}'.format(tfs.run(tf_t[4])))"
   ]
  },
  {
   "cell_type": "code",
   "execution_count": 81,
   "metadata": {},
   "outputs": [
    {
     "name": "stdout",
     "output_type": "stream",
     "text": [
      "a1dim.shape() = (3, 5)\n",
      "tf_t : Tensor(\"Const_11:0\", shape=(3, 5), dtype=float64)\n",
      "tf_t : [[1.   2.   3.   4.   5.99]\n",
      " [2.   3.   4.   5.   6.99]\n",
      " [3.   4.   5.   6.   7.99]]\n",
      "tf_t : 1.0\n",
      "tf_t : 3.0\n"
     ]
    }
   ],
   "source": [
    "# create and print 2-D Tensor\n",
    "a2dim = np.array([(1, 2, 3, 4, 5.99),\n",
    "                  (2, 3, 4, 5, 6.99),\n",
    "                  (3, 4, 5, 6, 7.99)\n",
    "                  ])\n",
    "print('a1dim.shape() = {}'.format(a2dim.shape))\n",
    "tf_t = tf.convert_to_tensor(a2dim,dtype = tf.float64)\n",
    "print('tf_t : {}'.format(tf_t))\n",
    "print('tf_t : {}'.format(tfs.run(tf_t)))\n",
    "# element of Tensor array is (suprise!) another tensor\n",
    "print('tf_t : {}'.format(tfs.run(tf_t[0][0])))\n",
    "# attempting to access outside of array causes compiler error, so 4 is max index\n",
    "# can't access underlying array\n",
    "print('tf_t : {}'.format(tfs.run(tf_t[2][0])))\n"
   ]
  },
  {
   "cell_type": "code",
   "execution_count": 119,
   "metadata": {},
   "outputs": [],
   "source": [
    "# variables need an initial value, can be changed\n",
    "W = tf.Variable([.3],tf.float32,name='W')\n",
    "b = tf.Variable([-.3],tf.float32,name='b')"
   ]
  },
  {
   "cell_type": "code",
   "execution_count": 120,
   "metadata": {},
   "outputs": [],
   "source": [
    "x = tf.placeholder(tf.float32)\n",
    "y = W * x + b\n",
    "\n"
   ]
  },
  {
   "cell_type": "code",
   "execution_count": 121,
   "metadata": {},
   "outputs": [
    {
     "name": "stdout",
     "output_type": "stream",
     "text": [
      "W: <tf.Variable 'W_3:0' shape=(1,) dtype=float32_ref>\n",
      "x: Tensor(\"Placeholder_12:0\", dtype=float32)\n",
      "b: <tf.Variable 'b_3:0' shape=(1,) dtype=float32_ref>\n",
      "y: Tensor(\"add_4:0\", dtype=float32)\n"
     ]
    }
   ],
   "source": [
    "print(\"W:\", W)\n",
    "print(\"x:\", x)\n",
    "print(\"b:\", b)\n",
    "print(\"y:\", y)"
   ]
  },
  {
   "cell_type": "code",
   "execution_count": 122,
   "metadata": {},
   "outputs": [],
   "source": [
    "# variables need to be initialized with this function\n",
    "# to initialize all variables\n",
    "tfs.run(tf.global_variables_initializer()) # or use tf.global_variables_initializer().run()\n",
    "# to initialize select variables use\n",
    "# tfs.run(tf.variables_initializer([W,b]))"
   ]
  },
  {
   "cell_type": "code",
   "execution_count": 123,
   "metadata": {},
   "outputs": [
    {
     "name": "stdout",
     "output_type": "stream",
     "text": [
      "run(y,{x:[1,2,3,4]}) :  [0.         0.3        0.6        0.90000004]\n"
     ]
    }
   ],
   "source": [
    "print('run(y,{x:[1,2,3,4]}) : ', tfs.run(y, {x: [1, 2, 3, 4]}))"
   ]
  },
  {
   "cell_type": "code",
   "execution_count": 124,
   "metadata": {},
   "outputs": [
    {
     "name": "stdout",
     "output_type": "stream",
     "text": [
      "[0. 0. 0. 0. 0. 0. 0. 0. 0. 0. 0. 0. 0. 0. 0. 0. 0. 0. 0. 0. 0. 0. 0. 0.\n",
      " 0. 0. 0. 0. 0. 0. 0. 0. 0. 0. 0. 0. 0. 0. 0. 0. 0. 0. 0. 0. 0. 0. 0. 0.\n",
      " 0. 0. 0. 0. 0. 0. 0. 0. 0. 0. 0. 0. 0. 0. 0. 0. 0. 0. 0. 0. 0. 0. 0. 0.\n",
      " 0. 0. 0. 0. 0. 0. 0. 0. 0. 0. 0. 0. 0. 0. 0. 0. 0. 0. 0. 0. 0. 0. 0. 0.\n",
      " 0. 0. 0. 0.]\n"
     ]
    }
   ],
   "source": [
    "a = tf.zeros((100,))\n",
    "print(tfs.run(a))"
   ]
  },
  {
   "cell_type": "code",
   "execution_count": 128,
   "metadata": {},
   "outputs": [],
   "source": [
    "w2 = tf.get_variable(name='W',dtype=tf.float32,initializer=[.3])\n",
    "b2 = tf.get_variable(name='b',dtype=tf.float32,initializer=[.3])"
   ]
  },
  {
   "cell_type": "code",
   "execution_count": 129,
   "metadata": {},
   "outputs": [],
   "source": [
    "#closing the interactive session\n",
    "tfs.close()"
   ]
  }
 ],
 "metadata": {
  "kernelspec": {
   "display_name": "Python [default]",
   "language": "python",
   "name": "python3"
  },
  "language_info": {
   "codemirror_mode": {
    "name": "ipython",
    "version": 3
   },
   "file_extension": ".py",
   "mimetype": "text/x-python",
   "name": "python",
   "nbconvert_exporter": "python",
   "pygments_lexer": "ipython3",
   "version": "3.6.4"
  }
 },
 "nbformat": 4,
 "nbformat_minor": 2
}
